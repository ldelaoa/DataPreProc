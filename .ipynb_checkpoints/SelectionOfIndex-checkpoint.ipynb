{
 "cells": [
  {
   "cell_type": "code",
   "execution_count": 1,
   "metadata": {},
   "outputs": [],
   "source": [
    "import matplotlib.pyplot as plt\n",
    "import nibabel as nib\n",
    "import numpy as np\n",
    "from skimage import morphology\n",
    "import os\n",
    "import random"
   ]
  },
  {
   "cell_type": "code",
   "execution_count": 5,
   "metadata": {},
   "outputs": [],
   "source": [
    "from LookFiles import *\n"
   ]
  },
  {
   "cell_type": "code",
   "execution_count": 7,
   "metadata": {},
   "outputs": [],
   "source": [
    "root_path = \"Z:/inbox/transferApr3_Ch2a/CT_ITV_GTV_XBP_Nii/CT_ITV_GTV_XBP_Nii/\""
   ]
  },
  {
   "cell_type": "code",
   "execution_count": 8,
   "metadata": {},
   "outputs": [
    {
     "data": {
      "text/plain": [
       "893"
      ]
     },
     "execution_count": 8,
     "metadata": {},
     "output_type": "execute_result"
    }
   ],
   "source": [
    "PxList = os.listdir(root)\n",
    "len(PxList)"
   ]
  },
  {
   "cell_type": "code",
   "execution_count": 9,
   "metadata": {},
   "outputs": [],
   "source": [
    "Px = str(1007981)"
   ]
  },
  {
   "cell_type": "code",
   "execution_count": 10,
   "metadata": {},
   "outputs": [
    {
     "name": "stdout",
     "output_type": "stream",
     "text": [
      "ACCT 0 PET 0\n",
      "PlanCT 1\n",
      "ITVtot 1 ITVtum 0 ITVnod 0\n",
      "GTVtot 1 GTVtum 2 GTVnod 0\n",
      "BP0 1 bp10 1 bp20 1 bp30 1 bp40 1\n",
      "BP50 1 bp60 1 bp70 1 bp80 1 bp90 10 bp100 0\n",
      "Total Files in Px Folder 14\n"
     ]
    }
   ],
   "source": [
    "acct_path, PET_path,planct_path,itvTot,itvTumor,itvNodes,gtvTot,gtvTumor,gtvNodes,bp0,bp10,bp20,bp30,bp40,bp50,bp60,bp70,bp80,bp90,bp100 = LookFilesNiiRaw(os.path.join(root_path, Px))"
   ]
  },
  {
   "cell_type": "code",
   "execution_count": 32,
   "metadata": {},
   "outputs": [
    {
     "name": "stdout",
     "output_type": "stream",
     "text": [
      "[[  -0.9765625    -0.            0.          249.51171875]\n",
      " [  -0.           -0.9765625     0.          427.01171875]\n",
      " [   0.            0.            2.         -150.        ]\n",
      " [   0.            0.            0.            1.        ]]\n",
      "[[  -0.9765625    -0.            0.          249.51171875]\n",
      " [  -0.           -0.9765625     0.          427.01171875]\n",
      " [   0.            0.            2.         -150.        ]\n",
      " [   0.            0.            0.            1.        ]]\n",
      "(512, 512, 310) (512, 512, 155)\n"
     ]
    }
   ],
   "source": [
    " if False and len(gtvTot)>0:\n",
    "    tum_np  = nib.load(gtvTot[0]).get_fdata()\n",
    "    ct_np  = nib.load(bp50[0]).get_fdata()\n",
    "    ContourType=\"GTV\"\n",
    "else:\n",
    "    tum_np  = nib.load(itvTot[0]).get_fdata()\n",
    "    ct_np  = nib.load(planct_path[0]).get_fdata()\n",
    "    print(nib.load(itvTot[0]).affine)\n",
    "    print(nib.load(planct_path[0]).affine)\n",
    "    ContourType=\"ITV\"\n",
    "print(tum_np.shape,ct_np.shape)"
   ]
  },
  {
   "cell_type": "code",
   "execution_count": null,
   "metadata": {},
   "outputs": [],
   "source": []
  },
  {
   "cell_type": "code",
   "execution_count": 24,
   "metadata": {},
   "outputs": [],
   "source": [
    "def getMiddleSlices(gtv_np):\n",
    "    #Get mid tumor Slices per view\n",
    "    non_zero_elements = np.nonzero(gtv_np)\n",
    "    min_x, max_x = np.min(non_zero_elements[0]), np.max(non_zero_elements[0])\n",
    "    middle_x = (min_x + max_x) // 2\n",
    "    min_y, max_y = np.min(non_zero_elements[1]), np.max(non_zero_elements[1])\n",
    "    middle_y = (min_y + max_y) // 2\n",
    "    min_z, max_z = np.min(non_zero_elements[2]), np.max(non_zero_elements[2])\n",
    "    middle_z = (min_z + max_z) // 2\n",
    "    return middle_x,middle_y,middle_z\n",
    " \n",
    "middle_x,middle_y,middle_z = getMiddleSlices(tum_np)"
   ]
  },
  {
   "cell_type": "code",
   "execution_count": 6,
   "metadata": {},
   "outputs": [],
   "source": []
  },
  {
   "cell_type": "code",
   "execution_count": 29,
   "metadata": {},
   "outputs": [
    {
     "name": "stdout",
     "output_type": "stream",
     "text": [
      "271 216 163 1007981 (512, 512, 155) ITVRaw (512, 512, 310)\n"
     ]
    },
    {
     "ename": "NameError",
     "evalue": "name 'middle_' is not defined",
     "output_type": "error",
     "traceback": [
      "\u001b[1;31m---------------------------------------------------------------------------\u001b[0m",
      "\u001b[1;31mNameError\u001b[0m                                 Traceback (most recent call last)",
      "Cell \u001b[1;32mIn[29], line 47\u001b[0m\n\u001b[0;32m     44\u001b[0m         plt\u001b[38;5;241m.\u001b[39msavefig(pathToSave\u001b[38;5;241m+\u001b[39m\u001b[38;5;124m\"\u001b[39m\u001b[38;5;124m/\u001b[39m\u001b[38;5;124m\"\u001b[39m\u001b[38;5;241m+\u001b[39mImageType\u001b[38;5;241m+\u001b[39m\u001b[38;5;124m\"\u001b[39m\u001b[38;5;124m_Coronal.jpeg\u001b[39m\u001b[38;5;124m\"\u001b[39m)\n\u001b[0;32m     45\u001b[0m         plt\u001b[38;5;241m.\u001b[39mclose()\n\u001b[1;32m---> 47\u001b[0m \u001b[43mScreenshot\u001b[49m\u001b[43m(\u001b[49m\u001b[43mct_np\u001b[49m\u001b[43m,\u001b[49m\u001b[43mtum_np\u001b[49m\u001b[43m,\u001b[49m\u001b[43mmiddle_x\u001b[49m\u001b[43m,\u001b[49m\u001b[43mmiddle_y\u001b[49m\u001b[43m,\u001b[49m\u001b[43mmiddle_z\u001b[49m\u001b[43m,\u001b[49m\u001b[38;5;28;43;01mTrue\u001b[39;49;00m\u001b[43m,\u001b[49m\u001b[43mPx\u001b[49m\u001b[43m,\u001b[49m\u001b[43mContourType\u001b[49m\u001b[38;5;241;43m+\u001b[39;49m\u001b[38;5;124;43m\"\u001b[39;49m\u001b[38;5;124;43mRaw\u001b[39;49m\u001b[38;5;124;43m\"\u001b[39;49m\u001b[43m)\u001b[49m\n",
      "Cell \u001b[1;32mIn[29], line 17\u001b[0m, in \u001b[0;36mScreenshot\u001b[1;34m(ct_np, gtv_np, middle_x, middle_y, middle_z, contourBool, Px2Save, ImageType)\u001b[0m\n\u001b[0;32m     15\u001b[0m \u001b[38;5;66;03m#middle_x,middle_y,middle_z = getMiddleSlices(gtv_np)\u001b[39;00m\n\u001b[0;32m     16\u001b[0m plt\u001b[38;5;241m.\u001b[39mfigure(figsize\u001b[38;5;241m=\u001b[39m(\u001b[38;5;241m15\u001b[39m, \u001b[38;5;241m15\u001b[39m), dpi\u001b[38;5;241m=\u001b[39m\u001b[38;5;241m300\u001b[39m)\n\u001b[1;32m---> 17\u001b[0m plt\u001b[38;5;241m.\u001b[39mimshow(clipped_image[:,:,\u001b[43mmiddle_\u001b[49m\u001b[38;5;241m/\u001b[39m\u001b[38;5;241m/\u001b[39m\u001b[38;5;241m2\u001b[39m],cmap\u001b[38;5;241m=\u001b[39m\u001b[38;5;124m'\u001b[39m\u001b[38;5;124mgray\u001b[39m\u001b[38;5;124m'\u001b[39m),plt\u001b[38;5;241m.\u001b[39maxis(\u001b[38;5;124m'\u001b[39m\u001b[38;5;124moff\u001b[39m\u001b[38;5;124m'\u001b[39m)\u001b[38;5;66;03m#,plt.colorbar()\u001b[39;00m\n\u001b[0;32m     18\u001b[0m plt\u001b[38;5;241m.\u001b[39mtitle(\u001b[38;5;124m\"\u001b[39m\u001b[38;5;124mZ:\u001b[39m\u001b[38;5;124m\"\u001b[39m\u001b[38;5;241m+\u001b[39m\u001b[38;5;28mstr\u001b[39m(middle_z))\n\u001b[0;32m     19\u001b[0m \u001b[38;5;28;01mif\u001b[39;00m contourBool:\n",
      "\u001b[1;31mNameError\u001b[0m: name 'middle_' is not defined"
     ]
    },
    {
     "data": {
      "text/plain": [
       "<Figure size 4500x4500 with 0 Axes>"
      ]
     },
     "metadata": {},
     "output_type": "display_data"
    }
   ],
   "source": [
    "def Screenshot(ct_np,gtv_np,middle_x,middle_y,middle_z,contourBool=True,Px2Save=None,ImageType=None):\n",
    "    minHU = -1024\n",
    "    maxHU = 600\n",
    "    savebool = True\n",
    "    root2save= \"Z:/Projectline_modelling_lung_cancer/JPEGs/Raw/\"\n",
    "    if Px2Save is not None:\n",
    "        pathToSave = os.path.join(root2save,Px2Save)\n",
    "        if not(os.path.exists(pathToSave)):\n",
    "            os.mkdir(pathToSave)\n",
    "    \n",
    "    print(middle_x,middle_y,middle_z,Px2Save,ct_np.shape,ImageType,gtv_np.shape)\n",
    "\n",
    "    \n",
    "    clipped_image = np.clip(ct_np, minHU, maxHU)\n",
    "    #middle_x,middle_y,middle_z = getMiddleSlices(gtv_np)\n",
    "    plt.figure(figsize=(15, 15), dpi=300)\n",
    "    plt.imshow(clipped_image[:,:,middle_//2],cmap='gray'),plt.axis('off')#,plt.colorbar()\n",
    "    plt.title(\"Z:\"+str(middle_z))\n",
    "    if contourBool:\n",
    "        plt.contour(gtv_np[:,:,middle_z],linewidths=0.5,colors='r')\n",
    "    if not(savebool): \n",
    "        plt.show()\n",
    "    else:\n",
    "        plt.savefig(pathToSave+\"/\"+ImageType+\"_Axial.jpeg\")\n",
    "        plt.close()\n",
    "    plt.figure(figsize=(15, 15), dpi=300)\n",
    "    plt.imshow(np.rot90(clipped_image[:,middle_y//2,:]),cmap='gray'),plt.axis('off')#,plt.colorbar()\n",
    "    plt.title(\"Y:\"+str(middle_y))\n",
    "    if contourBool:\n",
    "        plt.contour(np.rot90(gtv_np[:,middle_y,:]),linewidths=0.5,colors='r')\n",
    "    if not(savebool): \n",
    "        plt.show()\n",
    "    else:\n",
    "        plt.savefig(pathToSave+\"/\"+ImageType+\"_Sagital.jpeg\")\n",
    "        plt.close()\n",
    "    plt.figure(figsize=(15, 15), dpi=300)\n",
    "    plt.imshow(np.rot90(clipped_image[middle_x//2,:,:]),cmap='gray'),plt.axis('off')#,plt.colorbar()\n",
    "    plt.title(\"X:\"+str(middle_x))\n",
    "    if contourBool:\n",
    "        plt.contour(np.rot90(gtv_np[middle_x,:,:]),linewidths=0.5,colors='r')\n",
    "    if not(savebool): \n",
    "        plt.show()\n",
    "    else:\n",
    "        plt.savefig(pathToSave+\"/\"+ImageType+\"_Coronal.jpeg\")\n",
    "        plt.close()\n",
    "\n",
    "Screenshot(ct_np,tum_np,middle_x,middle_y,middle_z,True,Px,ContourType+\"Raw\")\n"
   ]
  },
  {
   "cell_type": "code",
   "execution_count": null,
   "metadata": {},
   "outputs": [],
   "source": []
  },
  {
   "cell_type": "code",
   "execution_count": 45,
   "metadata": {},
   "outputs": [],
   "source": []
  },
  {
   "cell_type": "code",
   "execution_count": 48,
   "metadata": {},
   "outputs": [],
   "source": []
  },
  {
   "cell_type": "code",
   "execution_count": null,
   "metadata": {},
   "outputs": [],
   "source": []
  },
  {
   "cell_type": "code",
   "execution_count": null,
   "metadata": {},
   "outputs": [],
   "source": []
  },
  {
   "cell_type": "code",
   "execution_count": 42,
   "metadata": {},
   "outputs": [
    {
     "data": {
      "text/plain": [
       "-1"
      ]
     },
     "execution_count": 42,
     "metadata": {},
     "output_type": "execute_result"
    }
   ],
   "source": [
    "indices_Semi_z"
   ]
  },
  {
   "cell_type": "code",
   "execution_count": 43,
   "metadata": {},
   "outputs": [
    {
     "data": {
      "text/plain": [
       "-1"
      ]
     },
     "execution_count": 43,
     "metadata": {},
     "output_type": "execute_result"
    }
   ],
   "source": [
    "indices_Tum_z"
   ]
  },
  {
   "cell_type": "code",
   "execution_count": null,
   "metadata": {},
   "outputs": [],
   "source": []
  }
 ],
 "metadata": {
  "kernelspec": {
   "display_name": "Python 3 (ipykernel)",
   "language": "python",
   "name": "python3"
  },
  "language_info": {
   "codemirror_mode": {
    "name": "ipython",
    "version": 3
   },
   "file_extension": ".py",
   "mimetype": "text/x-python",
   "name": "python",
   "nbconvert_exporter": "python",
   "pygments_lexer": "ipython3",
   "version": "3.10.12"
  }
 },
 "nbformat": 4,
 "nbformat_minor": 4
}
