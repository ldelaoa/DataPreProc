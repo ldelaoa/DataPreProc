{
 "cells": [
  {
   "cell_type": "code",
   "execution_count": 3,
   "id": "18e4fd38",
   "metadata": {},
   "outputs": [],
   "source": [
    "from DataPreProc import *\n",
    "from RegistwStats import *\n",
    "from LookFiles import *\n",
    "import csv\n",
    "from similarityMetrics_fun import *"
   ]
  },
  {
   "cell_type": "code",
   "execution_count": 4,
   "id": "6893cb8c",
   "metadata": {},
   "outputs": [
    {
     "name": "stdout",
     "output_type": "stream",
     "text": [
      "ACCT 1 ACCT_LM 0 PET 1 PlanCT 1 PlanCT_LM 0 ITV 1\n"
     ]
    }
   ],
   "source": [
    "root_path = \"//zkh/appdata/RTDicom/Projectline_modelling_lung_cancer/Users/Luis/CT_RT_PET_ACCT_NiiToHabrok/\"\n",
    "Px = str(23840)\n",
    "acct_Path, acct_PathLM, PET_Path, planct_path, planct_pathLM, ITV_Path = LookFiles(os.path.join(root_path,Px))"
   ]
  },
  {
   "cell_type": "code",
   "execution_count": 5,
   "id": "c53efb15",
   "metadata": {},
   "outputs": [
    {
     "name": "stdout",
     "output_type": "stream",
     "text": [
      "23840 PlanCT\n",
      "(149, 512, 512)\n"
     ]
    },
    {
     "name": "stderr",
     "output_type": "stream",
     "text": [
      "8it [00:04,  1.72it/s]                          "
     ]
    },
    {
     "name": "stdout",
     "output_type": "stream",
     "text": [
      "lungmask 2024-01-24 17:10:31 Postprocessing\n"
     ]
    },
    {
     "name": "stderr",
     "output_type": "stream",
     "text": [
      "\n",
      "100%|██████████| 5/5 [00:00<00:00, 97.73it/s]\n"
     ]
    },
    {
     "name": "stdout",
     "output_type": "stream",
     "text": [
      "Init Sizes: (512, 512, 149) (512, 512, 149) (512, 512, 149)\n",
      "Cropped: (456, 359, 149) (456, 359, 149) (456, 359, 149)\n",
      "Normalized Sizes: (185, 146, 74) (185, 146, 74) (185, 146, 74)\n"
     ]
    },
    {
     "data": {
      "text/plain": [
       "0"
      ]
     },
     "execution_count": 5,
     "metadata": {},
     "output_type": "execute_result"
    }
   ],
   "source": [
    "print(Px,\"PlanCT\")\n",
    "DataPreProc(planct_path, planct_pathLM,ITV_Path, os.path.join(root_path, Px),\"PlanCT\")"
   ]
  },
  {
   "cell_type": "markdown",
   "id": "f12e44db",
   "metadata": {},
   "source": [
    "# *SimpleITK REGISTRATION*"
   ]
  },
  {
   "cell_type": "code",
   "execution_count": 6,
   "id": "2fd47667",
   "metadata": {},
   "outputs": [
    {
     "name": "stdout",
     "output_type": "stream",
     "text": [
      "23840 ACCT\n",
      "(489, 512, 512)\n"
     ]
    },
    {
     "name": "stderr",
     "output_type": "stream",
     "text": [
      "25it [00:06,  3.79it/s]                           "
     ]
    },
    {
     "name": "stdout",
     "output_type": "stream",
     "text": [
      "lungmask 2024-01-24 17:11:02 Postprocessing\n"
     ]
    },
    {
     "name": "stderr",
     "output_type": "stream",
     "text": [
      "\n",
      "100%|██████████| 53/53 [00:04<00:00, 12.53it/s]\n"
     ]
    },
    {
     "name": "stdout",
     "output_type": "stream",
     "text": [
      "Init Sizes: (512, 512, 489) (512, 512, 489) (256, 256, 489)\n",
      "Itnerpolate Add Img before Cropping\n",
      "Cropped: (246, 193, 184) (246, 193, 184) (246, 193, 184)\n",
      "Normalized Sizes: (187, 147, 92) (187, 147, 92) (187, 147, 92)\n"
     ]
    },
    {
     "data": {
      "text/plain": [
       "0"
      ]
     },
     "execution_count": 6,
     "metadata": {},
     "output_type": "execute_result"
    }
   ],
   "source": [
    "print(Px, \"ACCT\")\n",
    "DataPreProc(acct_Path, acct_PathLM, PET_Path, os.path.join(root_path, Px), \"ACCT\")"
   ]
  },
  {
   "cell_type": "code",
   "execution_count": 7,
   "id": "d0c09a90",
   "metadata": {},
   "outputs": [
    {
     "name": "stdout",
     "output_type": "stream",
     "text": [
      "ACCTr img 0 ACCTr LM 0\n",
      "Inside Registration module\n",
      "Initial metric value: -0.031661991067448846\n",
      "Final metric value: -0.26191657961510734\n",
      "Optimizer's stopping condition: RegularStepGradientDescentOptimizerv4: Step too small after 49 iterations. Current step (6.10352e-05) is less than minimum step (0.0001).\n",
      "Inside Registration module\n",
      "Initial metric value: -0.7722537626521867\n",
      "Final metric value: -0.8422524171279704\n",
      "Optimizer's stopping condition: RegularStepGradientDescentOptimizerv4: Step too small after 26 iterations. Current step (6.10352e-05) is less than minimum step (0.0001).\n",
      "ACCTr img 1 ACCTr LM 1\n",
      "CTCT Axial: 1.17, 0.52, 3569234112.00\n",
      "CTCT Coronal 1.18, 0.66, 7526198541.02\n",
      "CTCT Sagital 1.16, 0.59, 13479656068.74\n",
      "LMLM Axial 1.17, 0.51, 3565142924.80\n",
      "LMLM Coronal 1.18, 0.68, 7528422699.39\n",
      "LMLM Sagital 1.16, 0.59, 13595203697.78\n"
     ]
    },
    {
     "data": {
      "text/plain": [
       "0"
      ]
     },
     "execution_count": 7,
     "metadata": {},
     "output_type": "execute_result"
    }
   ],
   "source": [
    "SingPxRegistWMetrics(root_path,Px)"
   ]
  },
  {
   "cell_type": "markdown",
   "id": "ab5e3136",
   "metadata": {},
   "source": [
    "# *MIRADA Registration*"
   ]
  },
  {
   "cell_type": "code",
   "execution_count": 9,
   "id": "4f60b290",
   "metadata": {},
   "outputs": [
    {
     "name": "stdout",
     "output_type": "stream",
     "text": [
      "23840 ACCT\n",
      "(149, 512, 512)\n"
     ]
    },
    {
     "name": "stderr",
     "output_type": "stream",
     "text": [
      "8it [00:02,  3.29it/s]                          "
     ]
    },
    {
     "name": "stdout",
     "output_type": "stream",
     "text": [
      "lungmask 2024-01-24 17:15:21 Postprocessing\n"
     ]
    },
    {
     "name": "stderr",
     "output_type": "stream",
     "text": [
      "\n",
      "100%|██████████| 6/6 [00:00<00:00, 51.96it/s]\n"
     ]
    },
    {
     "name": "stdout",
     "output_type": "stream",
     "text": [
      "Init Sizes: (512, 512, 149) (512, 512, 149) (256, 256, 489)\n",
      "Itnerpolate Add Img before Cropping\n",
      "Cropped: (459, 363, 149) (459, 363, 149) (459, 363, 149)\n",
      "Normalized Sizes: (186, 147, 74) (186, 147, 74) (186, 147, 74)\n"
     ]
    },
    {
     "data": {
      "text/plain": [
       "0"
      ]
     },
     "execution_count": 9,
     "metadata": {},
     "output_type": "execute_result"
    }
   ],
   "source": [
    "print(Px, \"ACCT\")\n",
    "root_MiradaRegist = \"//zkh/appdata/RTDicom/Projectline_modelling_lung_cancer/Users/Luis/RRegistered_ACCTs_Nii/\"\n",
    "acct_Path = [os.path.join(root_MiradaRegist,Px,\"acct_rregist001_fine.nii.gz\")]\n",
    "acct_PathLM = []\n",
    "PET_Path = [os.path.join(root_MiradaRegist,Px,\"23840_PET WB Earl_pt.nii.gz\")]\n",
    "DataPreProc(acct_Path, acct_PathLM, PET_Path, os.path.join(root_MiradaRegist, Px), \"ACCT\")"
   ]
  },
  {
   "cell_type": "code",
   "execution_count": 12,
   "id": "f647d1b3",
   "metadata": {},
   "outputs": [
    {
     "name": "stdout",
     "output_type": "stream",
     "text": [
      "(74, 147, 186) (74, 146, 185) (74, 146, 185)\n"
     ]
    }
   ],
   "source": [
    "acctLM_img =sitk.ReadImage(os.path.join(root_MiradaRegist,Px,\"ACCT_image_resampled3.nii.gz\"))\n",
    "img1_np = sitk.GetArrayViewFromImage(acctLM_img)\n",
    "\n",
    "PlanCT_img =sitk.ReadImage(os.path.join(root_path,Px,\"PlanCT_image_resampled3.nii.gz\"))\n",
    "img2_np = sitk.GetArrayViewFromImage(PlanCT_img)\n",
    "ITV_img =sitk.ReadImage(os.path.join(root_path,Px,\"PlanCT_ITV_resampled3.nii.gz\"))\n",
    "itv_np =  sitk.GetArrayViewFromImage(ITV_img)\n",
    "\n",
    "print(img1_np.shape,img2_np.shape,itv_np.shape)"
   ]
  },
  {
   "cell_type": "code",
   "execution_count": 13,
   "id": "e0752897",
   "metadata": {},
   "outputs": [
    {
     "data": {
      "text/plain": [
       "(74, 146, 185)"
      ]
     },
     "execution_count": 13,
     "metadata": {},
     "output_type": "execute_result"
    }
   ],
   "source": [
    "img1_np = img1_np[:,:-1,:-1]\n",
    "img1_np.shape"
   ]
  },
  {
   "cell_type": "code",
   "execution_count": 14,
   "id": "c5189d65",
   "metadata": {},
   "outputs": [
    {
     "name": "stdout",
     "output_type": "stream",
     "text": [
      "(74, 146, 185) (74, 146, 185) (74, 146, 185)\n"
     ]
    }
   ],
   "source": [
    "print(img1_np.shape,img2_np.shape,itv_np.shape)"
   ]
  },
  {
   "cell_type": "code",
   "execution_count": 15,
   "id": "0a055189",
   "metadata": {},
   "outputs": [
    {
     "name": "stdout",
     "output_type": "stream",
     "text": [
      "CTCT Axial: 1.17, 0.51, 32762.40\n",
      "CTCT Coronal 1.19, 0.67, 32762.20\n",
      "CTCT Sagital 1.16, 0.58, 32764.37\n"
     ]
    }
   ],
   "source": [
    "#Evaluations\n",
    "mutual_avg,ssim_avg,cross_avg = similarMetrics_axial(img1_np,img2_np,itv_np)\n",
    "print(\"CTCT Axial: {:.2f}, {:.2f}, {:.2f}\".format(mutual_avg, ssim_avg, cross_avg))\n",
    "mutual_avg,ssim_avg,cross_avg = similarMetrics_coronal(img1_np,img2_np,itv_np)\n",
    "print(\"CTCT Coronal {:.2f}, {:.2f}, {:.2f}\".format(mutual_avg, ssim_avg, cross_avg))\n",
    "mutual_avg,ssim_avg,cross_avg = similarMetrics_sagital(img1_np,img2_np,itv_np)\n",
    "print(\"CTCT Sagital {:.2f}, {:.2f}, {:.2f}\".format(mutual_avg, ssim_avg, cross_avg))"
   ]
  },
  {
   "cell_type": "code",
   "execution_count": 16,
   "id": "c6530210",
   "metadata": {},
   "outputs": [
    {
     "ename": "SyntaxError",
     "evalue": "invalid syntax (3282214133.py, line 1)",
     "output_type": "error",
     "traceback": [
      "\u001b[1;36m  Cell \u001b[1;32mIn[16], line 1\u001b[1;36m\u001b[0m\n\u001b[1;33m    CTCT Axial: 1.17, 0.52, 3569234112.00\u001b[0m\n\u001b[1;37m         ^\u001b[0m\n\u001b[1;31mSyntaxError\u001b[0m\u001b[1;31m:\u001b[0m invalid syntax\n"
     ]
    }
   ],
   "source": [
    "CTCT Axial: 1.17, 0.52, 3569234112.00\n",
    "CTCT Coronal 1.18, 0.66, 7526198541.02\n",
    "CTCT Sagital 1.16, 0.59, 13479656068.74\n",
    "\n",
    "LMLM Axial 1.17, 0.51, 3565142924.80\n",
    "LMLM Coronal 1.18, 0.68, 7528422699.39\n",
    "LMLM Sagital 1.16, 0.59, 13595203697.78"
   ]
  }
 ],
 "metadata": {
  "kernelspec": {
   "display_name": "Python 3 (ipykernel)",
   "language": "python",
   "name": "python3"
  },
  "language_info": {
   "codemirror_mode": {
    "name": "ipython",
    "version": 3
   },
   "file_extension": ".py",
   "mimetype": "text/x-python",
   "name": "python",
   "nbconvert_exporter": "python",
   "pygments_lexer": "ipython3",
   "version": "3.10.12"
  }
 },
 "nbformat": 4,
 "nbformat_minor": 5
}
