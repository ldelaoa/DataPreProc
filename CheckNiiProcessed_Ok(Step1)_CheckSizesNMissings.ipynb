{
 "cells": [
  {
   "cell_type": "markdown",
   "metadata": {},
   "source": [
    "#Goal 1 is to Check if missing Planning CT that are presnt in Nii but no in NiiProcessed\n",
    "\n",
    "\n",
    "#Goal 2 is to check the sizes of the CTS , all should be 320, if they are bigger check why, maybe cropping them is a good idea?\n"
   ]
  },
  {
   "cell_type": "code",
   "execution_count": 1,
   "metadata": {},
   "outputs": [],
   "source": [
    "import matplotlib.pyplot as plt\n",
    "import nibabel as nib\n",
    "import numpy as np\n",
    "from skimage import morphology\n",
    "import os\n",
    "import random\n",
    "from skimage.measure import label,regionprops\n",
    "from LookFiles import LookFilesNiiRaw"
   ]
  },
  {
   "cell_type": "code",
   "execution_count": 2,
   "metadata": {},
   "outputs": [],
   "source": [
    "#root = \"Z:/Projectline_modelling_lung_cancer/Nii_Processed/\"\n",
    "root_NiiProcessed = \"//zkh/appdata/RTDicom/Projectline_modelling_lung_cancer/Users/Luis/CT_ITV_GTV_XBP_Nii_Processed/\"\n",
    "root_NiiRaw = \"//zkh/appdata/RTDicom/Projectline_modelling_lung_cancer/Users/Luis/CT_ITV_GTV_XBP_Nii/\""
   ]
  },
  {
   "cell_type": "code",
   "execution_count": 3,
   "metadata": {},
   "outputs": [
    {
     "name": "stdout",
     "output_type": "stream",
     "text": [
      "229\n"
     ]
    }
   ],
   "source": [
    "PxList_path  = \"//zkh/appdata/RTDicom/Projectline_modelling_lung_cancer/Users/Luis/ListsOfPatients/PxToReviewInRTinder.txt\"\n",
    "with open(PxList_path, 'r') as file:\n",
    "    PxList = [line.rstrip() for line in file]\n",
    "print(len(PxList))"
   ]
  },
  {
   "cell_type": "code",
   "execution_count": 4,
   "metadata": {},
   "outputs": [],
   "source": [
    "def LookFiles_Snapshot(folder_path):\n",
    "    planCT_list,planCTLung_list = ([],[])\n",
    "    bp50_list, bp50Lung_list = ([],[])\n",
    "    gtvP_list, gtvN_list = ([],[])\n",
    "    itvP_list, itvN_list = ([],[])\n",
    "    for root,dirs,files in os.walk(folder_path):\n",
    "        for f in files:\n",
    "            if \"PlanCT_CTProcessed.nii\" in f:\n",
    "                planCT_list.append(os.path.join(folder_path,f))\n",
    "            if \"PlanCT_LungProcessed.nii\" in f:\n",
    "                planCTLung_list.append(os.path.join(folder_path,f))\n",
    "            if \"bp50_CTProcessed.nii\" in f:\n",
    "                bp50_list.append(os.path.join(folder_path,f))\n",
    "            if \"bp50_LungProcessed.nii\" in f:\n",
    "                bp50Lung_list.append(os.path.join(folder_path,f))\n",
    "            if \"GTVn_GTProcessed.nii\" in f:\n",
    "                gtvN_list.append(os.path.join(folder_path,f))\n",
    "            if \"GTVp_GTProcessed.nii\" in f:\n",
    "                gtvP_list.append(os.path.join(folder_path,f))\n",
    "            if \"ITVn_GTProcessed.nii\" in f:\n",
    "                itvN_list.append(os.path.join(folder_path,f))\n",
    "            if \"ITVp_GTProcessed.nii\" in f:\n",
    "                itvP_list.append(os.path.join(folder_path,f))\n",
    "    \n",
    "    #print(\"Len of Files\",len(planCT_list),len(planCTLung_list),len(bp50_list),len(bp50Lung_list),len(gtv_list),len(itv_list))\n",
    "\n",
    "\n",
    "    return planCT_list,planCTLung_list,bp50_list,bp50Lung_list,itvP_list,itvN_list,gtvP_list, gtvN_list\n",
    "    "
   ]
  },
  {
   "cell_type": "code",
   "execution_count": 11,
   "metadata": {},
   "outputs": [
    {
     "name": "stdout",
     "output_type": "stream",
     "text": [
      "(320, 640, 320) 3327503 GTV\n",
      "(320, 640, 320) 2126847 GTV\n",
      "(320, 640, 320) 2126847 ITV\n",
      "(320, 640, 320) 699039 GTV\n",
      "(320, 320, 640) 750710 GTV\n",
      "(320, 320, 640) 750710 ITV\n",
      "(320, 640, 320) 9236751 GTV\n",
      "(320, 640, 320) 9236751 ITV\n",
      "5 3 15\n"
     ]
    }
   ],
   "source": [
    "missingPlanCT_px = []\n",
    "diffStructurePx = []\n",
    "diffShapeGTV,diffShapeITV=0,0\n",
    "for Px in PxList:\n",
    "    planCT_list,planCTLung_list,bp50_list,bp50Lung_list,itvP_list,itvN_list,gtvP_list, gtvN_list = LookFiles_Snapshot(root_NiiProcessed+Px)\n",
    "    _,_,planct_path,itvTot,itvTumor,itvNodes,gtvTot,gtvTumor,gtvNodes,bp0,bp10,bp20,bp30,bp40,bp50,bp60,bp70,bp80,bp90,bp100 = LookFilesNiiRaw(os.path.join(root_NiiRaw, Px),None)\n",
    "    if len(planCT_list) != len(planct_path):\n",
    "        missingPlanCT_px.append(Px)\n",
    "    if len(gtvP_list)>0 and len(gtvN_list)>0:\n",
    "        gtvp_np  = nib.load(gtvP_list[0]).get_fdata()\n",
    "        if gtvp_np.shape != (320,320,320):\n",
    "            diffShapeGTV+=1\n",
    "            diffStructurePx.append(Px)\n",
    "            print(gtvp_np.shape,Px,\"GTV\")\n",
    "\n",
    "    if len(itvP_list)>0 and len(itvN_list)>0:\n",
    "        itvp_np  = nib.load(itvP_list[0]).get_fdata()  \n",
    "        if itvp_np.shape != (320,320,320):\n",
    "            diffShapeITV+=1\n",
    "            print(itvp_np.shape,Px,\"ITV\")\n",
    "            diffStructurePx.append(Px)\n",
    "print(diffShapeGTV,diffShapeITV,len(missingPlanCT_px))\n"
   ]
  },
  {
   "cell_type": "code",
   "execution_count": 1,
   "metadata": {},
   "outputs": [
    {
     "ename": "NameError",
     "evalue": "name 'diffStructurePx' is not defined",
     "output_type": "error",
     "traceback": [
      "\u001b[1;31m---------------------------------------------------------------------------\u001b[0m",
      "\u001b[1;31mNameError\u001b[0m                                 Traceback (most recent call last)",
      "Cell \u001b[1;32mIn[1], line 1\u001b[0m\n\u001b[1;32m----> 1\u001b[0m \u001b[43mdiffStructurePx\u001b[49m\n",
      "\u001b[1;31mNameError\u001b[0m: name 'diffStructurePx' is not defined"
     ]
    }
   ],
   "source": []
  },
  {
   "cell_type": "code",
   "execution_count": null,
   "metadata": {},
   "outputs": [],
   "source": [
    "missingPlanCT_px = ['8034617', '1127507', '4809024', '772611', '6557018','8882956', '986614','5474853', '340941', '9034825', '2741303', '2659861', '6958675', '2181664', '957793']\n",
    "diffShape = ['3327503','2126847','699039','750710','9236751']\n",
    "corrupt = missingPlanCT_px+diffShape"
   ]
  },
  {
   "cell_type": "code",
   "execution_count": null,
   "metadata": {},
   "outputs": [],
   "source": []
  },
  {
   "cell_type": "code",
   "execution_count": null,
   "metadata": {},
   "outputs": [],
   "source": []
  },
  {
   "cell_type": "code",
   "execution_count": null,
   "metadata": {},
   "outputs": [],
   "source": []
  },
  {
   "cell_type": "code",
   "execution_count": null,
   "metadata": {},
   "outputs": [],
   "source": []
  },
  {
   "cell_type": "code",
   "execution_count": 7,
   "metadata": {},
   "outputs": [],
   "source": [
    "def Screenshot(ct_np,gtv_np,middle_x,middle_y,middle_z,contourBool=True,Px2Save=None,ImageType=None):\n",
    "    minHU = -1024\n",
    "    maxHU = 600\n",
    "    savebool = True\n",
    "    #root2save= \"Z:/Projectline_modelling_lung_cancer/JPEGs/Processed/V1/\"\n",
    "    root2save= \"//zkh/appdata/RTDicom/Projectline_modelling_lung_cancer/Users/Luis/JPEGs/Nii_Processed/\"\n",
    "    if Px2Save is not None:\n",
    "        pathToSave = os.path.join(root2save,Px2Save)\n",
    "        if not(os.path.exists(pathToSave)):\n",
    "            os.mkdir(pathToSave)\n",
    "    \n",
    "    print(middle_x,middle_y,middle_z,Px2Save,ct_np.shape,ImageType,gtv_np.shape)\n",
    "    \n",
    "    clipped_image = np.clip(ct_np, minHU, maxHU)\n",
    "    #middle_x,middle_y,middle_z = getMiddleSlices(gtv_np)\n",
    "    plt.figure(figsize=(15, 15), dpi=150)#dpi=300)\n",
    "    plt.imshow(clipped_image[:,:,middle_z],cmap='gray'),plt.axis('off')#,plt.colorbar()\n",
    "    plt.title(\"Z:\"+str(middle_z))\n",
    "    if contourBool:\n",
    "        plt.contour(gtv_np[:,:,middle_z],linewidths=0.5,colors='r')\n",
    "    if not(savebool): \n",
    "        plt.show()\n",
    "    else:\n",
    "        plt.savefig(pathToSave+\"/\"+ImageType+\"_Axial.jpeg\")\n",
    "        plt.close()\n",
    "    plt.figure(figsize=(15, 15), dpi=300)\n",
    "    plt.imshow(np.rot90(clipped_image[:,middle_y,:]),cmap='gray'),plt.axis('off')#,plt.colorbar()\n",
    "    plt.title(\"Y:\"+str(middle_y))\n",
    "    if contourBool:\n",
    "        plt.contour(np.rot90(gtv_np[:,middle_y,:]),linewidths=0.5,colors='r')\n",
    "    if not(savebool): \n",
    "        plt.show()\n",
    "    else:\n",
    "        plt.savefig(pathToSave+\"/\"+ImageType+\"_Sagital.jpeg\")\n",
    "        plt.close()\n",
    "    plt.figure(figsize=(15, 15), dpi=300)\n",
    "    plt.imshow(np.rot90(clipped_image[middle_x,:,:]),cmap='gray'),plt.axis('off')#,plt.colorbar()\n",
    "    plt.title(\"X:\"+str(middle_x))\n",
    "    if contourBool:\n",
    "        plt.contour(np.rot90(gtv_np[middle_x,:,:]),linewidths=0.5,colors='r')\n",
    "    if not(savebool): \n",
    "        plt.show()\n",
    "    else:\n",
    "        plt.savefig(pathToSave+\"/\"+ImageType+\"_Coronal.jpeg\")\n",
    "        plt.close()"
   ]
  },
  {
   "cell_type": "code",
   "execution_count": 8,
   "metadata": {},
   "outputs": [],
   "source": [
    "\n",
    "def CountSlidesPerCategory(struct_np,tumorSlide_Tresh):\n",
    "    #Z\n",
    "    countTum_z = 0\n",
    "    countSemi_z =0\n",
    "    indices_Tum_z = []\n",
    "    indices_Semi_z = []\n",
    "    for i in range(struct_np.shape[-1]):\n",
    "        if np.sum(struct_np[:,:,i])>0:\n",
    "            currRatio = np.sum(struct_np[:,:,i])/(struct_np.shape[0]*struct_np.shape[1])\n",
    "            if currRatio > tumorSlide_Tresh[-1]:\n",
    "                countTum_z+=1\n",
    "                indices_Tum_z.append(i)\n",
    "            elif currRatio > 0:\n",
    "                countSemi_z+=1\n",
    "                indices_Semi_z.append(i)\n",
    "    #Y\n",
    "    countTum_y = 0\n",
    "    countSemi_y =0\n",
    "    indices_Tum_y= []\n",
    "    indices_Semi_y = []\n",
    "    for i in range(struct_np.shape[-2]):\n",
    "        if np.sum(struct_np[:,i,:])>0:\n",
    "            currRatio = np.sum(struct_np[:,i,:])/(struct_np.shape[0]*struct_np.shape[2])\n",
    "            if currRatio > tumorSlide_Tresh[-2]:\n",
    "                countTum_y+=1\n",
    "                indices_Tum_y.append(i)\n",
    "            elif currRatio > 0:\n",
    "                countSemi_y+=1\n",
    "                indices_Semi_y.append(i)\n",
    "    #X\n",
    "    countTum_x = 0\n",
    "    countSemi_x =0\n",
    "    indices_Tum_x= []\n",
    "    indices_Semi_x = []\n",
    "    for i in range(struct_np.shape[-3]):\n",
    "        if np.sum(struct_np[i,:,:])>0:\n",
    "            currRatio = np.sum(struct_np[i,:,:])/(struct_np.shape[1]*struct_np.shape[2])\n",
    "            if currRatio > tumorSlide_Tresh[-3]:\n",
    "                countTum_x+=1\n",
    "                indices_Tum_x.append(i)\n",
    "            elif currRatio > 0:\n",
    "                countSemi_x+=1\n",
    "                indices_Semi_x.append(i)\n",
    "\n",
    "    \n",
    "    #return countTum_x,countTum_y,countTum_z,countSemi_x,countSemi_y,countSemi_z,\n",
    "    return indices_Tum_x,indices_Tum_y,indices_Tum_z,indices_Semi_x,indices_Semi_y,indices_Semi_z"
   ]
  },
  {
   "cell_type": "code",
   "execution_count": 9,
   "metadata": {},
   "outputs": [],
   "source": [
    "def FixHoles(struct_np):\n",
    "    struct_np[struct_np>0] = 1\n",
    "    struct_bool = morphology.binary_closing(struct_np.astype(bool))\n",
    "    struct_filled = struct_bool.astype(np.uint8)\n",
    "    return struct_filled"
   ]
  },
  {
   "cell_type": "code",
   "execution_count": 10,
   "metadata": {},
   "outputs": [
    {
     "ename": "NameError",
     "evalue": "name 'AvgRatioGTVp' is not defined",
     "output_type": "error",
     "traceback": [
      "\u001b[1;31m---------------------------------------------------------------------------\u001b[0m",
      "\u001b[1;31mNameError\u001b[0m                                 Traceback (most recent call last)",
      "Cell \u001b[1;32mIn[10], line 2\u001b[0m\n\u001b[0;32m      1\u001b[0m factor\u001b[38;5;241m=\u001b[39m\u001b[38;5;241m.3\u001b[39m\n\u001b[1;32m----> 2\u001b[0m GTVpSlide_AvgTresh \u001b[38;5;241m=\u001b[39m [\u001b[43mAvgRatioGTVp\u001b[49m[\u001b[38;5;241m0\u001b[39m]\u001b[38;5;241m*\u001b[39mfactor,AvgRatioGTVp[\u001b[38;5;241m1\u001b[39m]\u001b[38;5;241m*\u001b[39mfactor,AvgRatioGTVp[\u001b[38;5;241m2\u001b[39m]\u001b[38;5;241m*\u001b[39mfactor]\n\u001b[0;32m      3\u001b[0m GTVnSlide_AvgTresh \u001b[38;5;241m=\u001b[39m [AvgRatioGTVn[\u001b[38;5;241m0\u001b[39m]\u001b[38;5;241m*\u001b[39mfactor,AvgRatioGTVn[\u001b[38;5;241m1\u001b[39m]\u001b[38;5;241m*\u001b[39mfactor,AvgRatioGTVn[\u001b[38;5;241m2\u001b[39m]\u001b[38;5;241m*\u001b[39mfactor]\n\u001b[0;32m      4\u001b[0m ITVpSlide_AvgTresh \u001b[38;5;241m=\u001b[39m [AvgRatioITVp[\u001b[38;5;241m0\u001b[39m]\u001b[38;5;241m*\u001b[39mfactor,AvgRatioITVp[\u001b[38;5;241m1\u001b[39m]\u001b[38;5;241m*\u001b[39mfactor,AvgRatioITVp[\u001b[38;5;241m2\u001b[39m]\u001b[38;5;241m*\u001b[39mfactor]\n",
      "\u001b[1;31mNameError\u001b[0m: name 'AvgRatioGTVp' is not defined"
     ]
    }
   ],
   "source": [
    "factor=.3\n",
    "GTVpSlide_AvgTresh = [AvgRatioGTVp[0]*factor,AvgRatioGTVp[1]*factor,AvgRatioGTVp[2]*factor]\n",
    "GTVnSlide_AvgTresh = [AvgRatioGTVn[0]*factor,AvgRatioGTVn[1]*factor,AvgRatioGTVn[2]*factor]\n",
    "ITVpSlide_AvgTresh = [AvgRatioITVp[0]*factor,AvgRatioITVp[1]*factor,AvgRatioITVp[2]*factor]\n",
    "ITVnSlide_AvgTresh = [AvgRatioITVn[0]*factor,AvgRatioITVn[1]*factor,AvgRatioITVn[2]*factor]"
   ]
  },
  {
   "cell_type": "code",
   "execution_count": null,
   "metadata": {},
   "outputs": [],
   "source": [
    "def SelectIndexAndScreenshot(Px,ContourType,indices_x,indices_y,indices_z,ct_np,struct_np):\n",
    "    if len(indices_x)>0: \n",
    "        randomc_x = random.choice(indices_x)\n",
    "        randomc_y = random.choice(indices_y)\n",
    "        randomc_z = random.choice(indices_z)\n",
    "        Screenshot(ct_np,struct_np,randomc_x,randomc_y,randomc_z,True,Px,ContourType)\n",
    "    "
   ]
  },
  {
   "cell_type": "code",
   "execution_count": null,
   "metadata": {},
   "outputs": [
    {
     "name": "stdout",
     "output_type": "stream",
     "text": [
      "4291861\n",
      "3327503\n",
      "4693524\n",
      "6163057\n",
      "1933846\n",
      "8034617\n"
     ]
    },
    {
     "ename": "IndexError",
     "evalue": "list index out of range",
     "output_type": "error",
     "traceback": [
      "\u001b[1;31m---------------------------------------------------------------------------\u001b[0m",
      "\u001b[1;31mIndexError\u001b[0m                                Traceback (most recent call last)",
      "Cell \u001b[1;32mIn[26], line 45\u001b[0m\n\u001b[0;32m     43\u001b[0m itvP_np  \u001b[38;5;241m=\u001b[39m nib\u001b[38;5;241m.\u001b[39mload(itvP_list[\u001b[38;5;241m0\u001b[39m])\u001b[38;5;241m.\u001b[39mget_fdata()\n\u001b[0;32m     44\u001b[0m itvN_np  \u001b[38;5;241m=\u001b[39m nib\u001b[38;5;241m.\u001b[39mload(itvN_list[\u001b[38;5;241m0\u001b[39m])\u001b[38;5;241m.\u001b[39mget_fdata()\n\u001b[1;32m---> 45\u001b[0m avgct_np  \u001b[38;5;241m=\u001b[39m nib\u001b[38;5;241m.\u001b[39mload(\u001b[43mplanCT_list\u001b[49m\u001b[43m[\u001b[49m\u001b[38;5;241;43m0\u001b[39;49m\u001b[43m]\u001b[49m)\u001b[38;5;241m.\u001b[39mget_fdata()\n\u001b[0;32m     47\u001b[0m indicesHR_ITVp_x,indicesHR_ITVp_y,indicesHR_ITVp_z,indicesLR_ITVp_x,indicesLR_ITVp_y,indicesLR_ITVp_z\u001b[38;5;241m=\u001b[39m CountSlidesPerCategory(itvP_np,ITVpSlide_AvgTresh)\n\u001b[0;32m     48\u001b[0m indicesHR_ITVn_x,indicesHR_ITVn_y,indicesHR_ITVn_z,indicesLR_ITVn_x,indicesLR_ITVn_y,indicesLR_ITVn_z\u001b[38;5;241m=\u001b[39m CountSlidesPerCategory(itvN_np,ITVnSlide_AvgTresh)\n",
      "\u001b[1;31mIndexError\u001b[0m: list index out of range"
     ]
    }
   ],
   "source": [
    "HR_GTVp_x,HR_GTVp_y,HR_GTVp_z = 0,0,0\n",
    "HR_GTVn_x,HR_GTVn_y,HR_GTVn_z = 0,0,0\n",
    "LR_GTVp_x,LR_GTVp_y,LR_GTVp_z = 0,0,0\n",
    "LR_GTVn_x,LR_GTVn_y,LR_GTVn_z = 0,0,0\n",
    "\n",
    "totHR_GTVp_x,totHR_GTVp_y,totHR_GTVp_z,totLR_GTVp_x,totLR_GTVp_y,totLR_GTVp_z = 0,0,0,0,0,0\n",
    "totHR_GTVn_x,totHR_GTVn_y,totHR_GTVn_z,totLR_GTVn_x,totLR_GTVn_y,totLR_GTVn_z = 0,0,0,0,0,0\n",
    "\n",
    "totHR_ITVp_x,totHR_ITVp_y,totHR_ITVp_z,totLR_ITVp_x,totLR_ITVp_y,totLR_ITVp_z = 0,0,0,0,0,0\n",
    "totHR_ITVn_x,totHR_ITVn_y,totHR_ITVn_z,totLR_ITVn_x,totLR_ITVn_y,totLR_ITVn_z = 0,0,0,0,0,0\n",
    "count =0\n",
    "for Px in PxList:\n",
    "    planCT_list,planCTLung_list,bp50_list,bp50Lung_list,itvP_list,itvN_list,gtvP_list, gtvN_list = LookFiles_Snapshot(root+Px)\n",
    "    print(Px)\n",
    "    if len(gtvP_list)>0:\n",
    "        gtvP_np  = nib.load(gtvP_list[0]).get_fdata()\n",
    "        gtvN_np  = nib.load(gtvP_list[0]).get_fdata()\n",
    "        bp50_np  = nib.load(bp50_list[0]).get_fdata()\n",
    "\n",
    "        indicesHR_GTVp_x,indicesHR_GTVp_y,indicesHR_GTVp_z,indicesLR_GTVp_x,indicesLR_GTVp_y,indicesLR_GTVp_z= CountSlidesPerCategory(gtvP_np,GTVpSlide_AvgTresh)\n",
    "        indicesHR_GTVn_x,indicesHR_GTVn_y,indicesHR_GTVn_z,indicesLR_GTVn_x,indicesLR_GTVn_y,indicesLR_GTVn_z= CountSlidesPerCategory(gtvN_np,GTVnSlide_AvgTresh)\n",
    "        if False:\n",
    "            SelectIndexAndScreenshot(Px,\"HighRatio_GTVp\",indicesHR_GTVp_x,indicesHR_GTVp_y,indicesHR_GTVp_z,bp50_np,gtvP_np)\n",
    "            SelectIndexAndScreenshot(Px,\"LowRatio_GTVp\",indicesHR_GTVn_x,indicesHR_GTVn_y,indicesHR_GTVn_z,bp50_np,gtvP_np)\n",
    "            SelectIndexAndScreenshot(Px,\"HighRatio_GTVn\",indicesLR_GTVp_x,indicesLR_GTVp_y,indicesLR_GTVp_z,bp50_np,gtvN_np)\n",
    "            SelectIndexAndScreenshot(Px,\"LowRatio_GTVn\",indicesLR_GTVn_x,indicesLR_GTVn_y,indicesLR_GTVn_z,bp50_np,gtvN_np)\n",
    "\n",
    "        totHR_GTVp_x+=len(indicesHR_GTVp_x)\n",
    "        totHR_GTVp_y+=len(indicesHR_GTVp_y)\n",
    "        totHR_GTVp_z+=len(indicesHR_GTVp_z)\n",
    "        totLR_GTVp_x+=len(indicesLR_GTVp_x)\n",
    "        totLR_GTVp_y+=len(indicesLR_GTVp_y)\n",
    "        totLR_GTVp_z+=len(indicesLR_GTVp_z)\n",
    "\n",
    "        totHR_GTVn_x+=len(indicesHR_GTVn_x)\n",
    "        totHR_GTVn_y+=len(indicesHR_GTVn_y)\n",
    "        totHR_GTVn_z+=len(indicesHR_GTVn_z)\n",
    "        totLR_GTVn_x+=len(indicesLR_GTVn_x)\n",
    "        totLR_GTVn_y+=len(indicesLR_GTVn_y)\n",
    "        totLR_GTVn_z+=len(indicesLR_GTVn_z)\n",
    "\n",
    "    if len(itvP_list)>0:\n",
    "        itvP_np  = nib.load(itvP_list[0]).get_fdata()\n",
    "        itvN_np  = nib.load(itvN_list[0]).get_fdata()\n",
    "        avgct_np  = nib.load(planCT_list[0]).get_fdata()\n",
    "\n",
    "        indicesHR_ITVp_x,indicesHR_ITVp_y,indicesHR_ITVp_z,indicesLR_ITVp_x,indicesLR_ITVp_y,indicesLR_ITVp_z= CountSlidesPerCategory(itvP_np,ITVpSlide_AvgTresh)\n",
    "        indicesHR_ITVn_x,indicesHR_ITVn_y,indicesHR_ITVn_z,indicesLR_ITVn_x,indicesLR_ITVn_y,indicesLR_ITVn_z= CountSlidesPerCategory(itvN_np,ITVnSlide_AvgTresh)\n",
    "        if False:\n",
    "            SelectIndexAndScreenshot(Px,\"HighRatio_ITVp\",indicesHR_ITVp_x,indicesHR_ITVp_y,indicesHR_ITVp_z,avgct_np,itvP_np)\n",
    "            SelectIndexAndScreenshot(Px,\"LowRatio_ITVp\",indicesHR_ITVn_x,indicesHR_ITVn_y,indicesHR_ITVn_z,avgct_np,itvP_np)\n",
    "            SelectIndexAndScreenshot(Px,\"HighRatio_ITVn\",indicesLR_ITVp_x,indicesLR_ITVp_y,indicesLR_ITVp_z,avgct_np,itvN_np)\n",
    "            SelectIndexAndScreenshot(Px,\"LowRatio_ITVn\",indicesLR_ITVn_x,indicesLR_ITVn_y,indicesLR_ITVn_z,avgct_np,itvN_np)\n",
    "\n",
    "        totHR_ITVp_x+=len(indicesHR_ITVp_x)\n",
    "        totHR_ITVp_y+=len(indicesHR_ITVp_y)\n",
    "        totHR_ITVp_z+=len(indicesHR_ITVp_z)\n",
    "        totLR_ITVp_x+=len(indicesLR_ITVp_x)\n",
    "        totLR_ITVp_y+=len(indicesLR_ITVp_y)\n",
    "        totLR_ITVp_z+=len(indicesLR_ITVp_z)\n",
    "\n",
    "        totHR_ITVn_x+=len(indicesHR_ITVn_x)\n",
    "        totHR_ITVn_y+=len(indicesHR_ITVn_y)\n",
    "        totHR_ITVn_z+=len(indicesHR_ITVn_z)\n",
    "        totLR_ITVn_x+=len(indicesLR_ITVn_x)\n",
    "        totLR_ITVn_y+=len(indicesLR_ITVn_y)\n",
    "        totLR_ITVn_z+=len(indicesLR_ITVn_z)\n",
    "    count+=1\n",
    "    if count >5:\n",
    "        break\n",
    "\n",
    "    \n",
    "print(\"Tot GTVp HR\",totHR_GTVp_x,totHR_GTVp_y,totHR_GTVp_z,\"LR\",totLR_GTVp_x,totLR_GTVp_y,totLR_GTVp_z)\n",
    "print(\"Tot GTVn HR\",totHR_GTVn_x,totHR_GTVn_y,totHR_GTVn_z,\"LR\",totLR_GTVn_x,totLR_GTVn_y,totLR_GTVn_z)\n",
    "\n",
    "print(\"Tot ITVp HR\",totHR_ITVp_x,totHR_ITVp_y,totHR_ITVp_z,\"LR: \",totLR_ITVp_x,totLR_ITVp_y,totLR_ITVp_z)\n",
    "print(\"Tot ITVn HR\",totHR_ITVn_x,totHR_ITVn_y,totHR_ITVn_z,\"LR: \",totLR_ITVn_x,totLR_ITVn_y,totLR_ITVn_z)"
   ]
  },
  {
   "cell_type": "code",
   "execution_count": null,
   "metadata": {},
   "outputs": [],
   "source": []
  },
  {
   "cell_type": "code",
   "execution_count": null,
   "metadata": {},
   "outputs": [],
   "source": [
    "#1007981 - Is incorrect"
   ]
  },
  {
   "cell_type": "code",
   "execution_count": null,
   "metadata": {},
   "outputs": [],
   "source": []
  },
  {
   "cell_type": "code",
   "execution_count": null,
   "metadata": {},
   "outputs": [],
   "source": []
  }
 ],
 "metadata": {
  "kernelspec": {
   "display_name": "Python 3 (ipykernel)",
   "language": "python",
   "name": "python3"
  },
  "language_info": {
   "codemirror_mode": {
    "name": "ipython",
    "version": 3
   },
   "file_extension": ".py",
   "mimetype": "text/x-python",
   "name": "python",
   "nbconvert_exporter": "python",
   "pygments_lexer": "ipython3",
   "version": "3.10.12"
  }
 },
 "nbformat": 4,
 "nbformat_minor": 4
}
