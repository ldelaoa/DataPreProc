{
 "cells": [
  {
   "cell_type": "markdown",
   "metadata": {},
   "source": [
    "#Goal 1 is to Check if missing Planning CT that are presnt in Nii but no in NiiProcessed\n",
    "\n",
    "\n",
    "#Goal 2 is to check the sizes of the CTS , all should be 320, if they are bigger check why, maybe cropping them is a good idea?\n"
   ]
  },
  {
   "cell_type": "code",
   "execution_count": 11,
   "metadata": {},
   "outputs": [],
   "source": [
    "import matplotlib.pyplot as plt\n",
    "import nibabel as nib\n",
    "import numpy as np\n",
    "import os\n",
    "import random\n",
    "from skimage.measure import label,regionprops\n",
    "from LookFiles import LookFilesNiiRaw\n",
    "import pandas as pd"
   ]
  },
  {
   "cell_type": "code",
   "execution_count": 12,
   "metadata": {},
   "outputs": [],
   "source": [
    "#root = \"Z:/Projectline_modelling_lung_cancer/Nii_Processed/\"\n",
    "root_NiiProcessed = \"//zkh/appdata/RTDicom/Projectline_modelling_lung_cancer/Users/Luis/CT_ITV_GTV_XBP_Nii_Processed/\"\n",
    "root_NiiRaw = \"//zkh/appdata/RTDicom/Projectline_modelling_lung_cancer/Users/Luis/CT_ITV_GTV_XBP_Nii/\"\n",
    "root_2SaveCSVs = \"//zkh/appdata/RTDicom/Projectline_modelling_lung_cancer/Users/Luis/CSVs/\""
   ]
  },
  {
   "cell_type": "code",
   "execution_count": 13,
   "metadata": {},
   "outputs": [
    {
     "name": "stdout",
     "output_type": "stream",
     "text": [
      "861\n"
     ]
    }
   ],
   "source": [
    "PxList_path  = \"//zkh/appdata/RTDicom/Projectline_modelling_lung_cancer/Users/Luis/ListsOfPatients/PxSelectionforDCM2Nii.txt\"\n",
    "with open(PxList_path, 'r') as file:\n",
    "    PxList = [line.rstrip() for line in file]\n",
    "print(len(PxList))"
   ]
  },
  {
   "cell_type": "code",
   "execution_count": 14,
   "metadata": {},
   "outputs": [],
   "source": [
    "def LookFiles_Snapshot(folder_path):\n",
    "    planCT_list,planCTLung_list = ([],[])\n",
    "    bp50_list, bp50Lung_list = ([],[])\n",
    "    gtvP_list, gtvN_list = ([],[])\n",
    "    itvP_list, itvN_list = ([],[])\n",
    "    for root,dirs,files in os.walk(folder_path):\n",
    "        for f in files:\n",
    "            if \"PlanCT_CTProcessed.nii\" in f:\n",
    "                planCT_list.append(os.path.join(folder_path,f))\n",
    "            if \"PlanCT_LungProcessed.nii\" in f:\n",
    "                planCTLung_list.append(os.path.join(folder_path,f))\n",
    "            if \"bp50_CTProcessed.nii\" in f:\n",
    "                bp50_list.append(os.path.join(folder_path,f))\n",
    "            if \"bp50_LungProcessed.nii\" in f:\n",
    "                bp50Lung_list.append(os.path.join(folder_path,f))\n",
    "            if \"GTVn_GTProcessed.nii\" in f:\n",
    "                gtvN_list.append(os.path.join(folder_path,f))\n",
    "            if \"GTVp_GTProcessed.nii\" in f:\n",
    "                gtvP_list.append(os.path.join(folder_path,f))\n",
    "            if \"ITVn_GTProcessed.nii\" in f:\n",
    "                itvN_list.append(os.path.join(folder_path,f))\n",
    "            if \"ITVp_GTProcessed.nii\" in f:\n",
    "                itvP_list.append(os.path.join(folder_path,f))\n",
    "    if len(bp50_list)==0: \n",
    "        for root,dirs,files in os.walk(folder_path):\n",
    "            for f in files:\n",
    "                if \"bp60_CTProcessed.nii\" in f:\n",
    "                    bp50_list.append(os.path.join(folder_path,f))\n",
    "                if \"bp60_LungProcessed.nii\" in f:\n",
    "                    bp50Lung_list.append(os.path.join(folder_path,f))\n",
    "    if len(bp50_list)==0: \n",
    "        for root,dirs,files in os.walk(folder_path):\n",
    "            for f in files:\n",
    "                if \"bp40_CTProcessed.nii\" in f:\n",
    "                    bp50_list.append(os.path.join(folder_path,f))\n",
    "                if \"bp40_LungProcessed.nii\" in f:\n",
    "                    bp50Lung_list.append(os.path.join(folder_path,f))\n",
    "    #print(\"Len of Files\",len(planCT_list),len(planCTLung_list),len(bp50_list),len(bp50Lung_list),len(gtv_list),len(itv_list))\n",
    "\n",
    "\n",
    "    return planCT_list,planCTLung_list,bp50_list,bp50Lung_list,itvP_list,itvN_list,gtvP_list, gtvN_list\n",
    "    "
   ]
  },
  {
   "cell_type": "code",
   "execution_count": 15,
   "metadata": {},
   "outputs": [],
   "source": [
    "def Screenshot(ct_np,gtv_np,middle_x,middle_y,middle_z,contourBool=True,Px2Save=None,ImageType=None):\n",
    "    minHU = -1024\n",
    "    maxHU = 600\n",
    "    savebool = True\n",
    "    #root2save= \"Z:/Projectline_modelling_lung_cancer/JPEGs/Processed/V1/\"\n",
    "    root2save= \"//zkh/appdata/RTDicom/Projectline_modelling_lung_cancer/Users/Luis/JPEGs/Nii_Processed/\"\n",
    "    if Px2Save is not None:\n",
    "        pathToSave = os.path.join(root2save,Px2Save)\n",
    "        if not(os.path.exists(pathToSave)):\n",
    "            os.mkdir(pathToSave)\n",
    "            print(middle_x,middle_y,middle_z,Px2Save,ct_np.shape,ImageType,gtv_np.shape)\n",
    "            clipped_image = np.clip(ct_np, minHU, maxHU)\n",
    "            #middle_x,middle_y,middle_z = getMiddleSlices(gtv_np)\n",
    "            plt.figure(figsize=(15, 15), dpi=150)#dpi=300)\n",
    "            plt.imshow(clipped_image[:,:,middle_z],cmap='gray'),plt.axis('off')#,plt.colorbar()\n",
    "            plt.title(\"Z:\"+str(middle_z))\n",
    "            if contourBool:\n",
    "                plt.contour(gtv_np[:,:,middle_z],linewidths=0.5,colors='r')\n",
    "            if not(savebool): \n",
    "                plt.show()\n",
    "            else:\n",
    "                plt.savefig(pathToSave+\"/\"+ImageType+\"_Axial.jpeg\")\n",
    "                plt.close()\n",
    "            plt.figure(figsize=(15, 15), dpi=300)\n",
    "            plt.imshow(np.rot90(clipped_image[:,middle_y,:]),cmap='gray'),plt.axis('off')#,plt.colorbar()\n",
    "            plt.title(\"Y:\"+str(middle_y))\n",
    "            if contourBool:\n",
    "                plt.contour(np.rot90(gtv_np[:,middle_y,:]),linewidths=0.5,colors='r')\n",
    "            if not(savebool): \n",
    "                plt.show()\n",
    "            else:\n",
    "                plt.savefig(pathToSave+\"/\"+ImageType+\"_Sagital.jpeg\")\n",
    "                plt.close()\n",
    "            plt.figure(figsize=(15, 15), dpi=300)\n",
    "            plt.imshow(np.rot90(clipped_image[middle_x,:,:]),cmap='gray'),plt.axis('off')#,plt.colorbar()\n",
    "            plt.title(\"X:\"+str(middle_x))\n",
    "            if contourBool:\n",
    "                plt.contour(np.rot90(gtv_np[middle_x,:,:]),linewidths=0.5,colors='r')\n",
    "            if not(savebool): \n",
    "                plt.show()\n",
    "            else:\n",
    "                plt.savefig(pathToSave+\"/\"+ImageType+\"_Coronal.jpeg\")\n",
    "                plt.close()\n",
    "        else:\n",
    "            print(\"Not Saving Px\")"
   ]
  },
  {
   "cell_type": "code",
   "execution_count": 16,
   "metadata": {},
   "outputs": [],
   "source": [
    "def CreateIndices(struct_np):\n",
    "    IndicesX,IndicesY,IndicesZ = [],[],[]\n",
    "    for i in range(struct_np.shape[-3]):\n",
    "        if np.sum(struct_np[i,:,:]):\n",
    "            IndicesX.append(i)\n",
    "    for i in range(struct_np.shape[-2]):\n",
    "        if np.sum(struct_np[:,i,:]):\n",
    "            IndicesY.append(i)\n",
    "    for i in range(struct_np.shape[-1]):\n",
    "        if np.sum(struct_np[:,:,i]):\n",
    "            IndicesZ.append(i) \n",
    "\n",
    "    return IndicesX,IndicesY,IndicesZ"
   ]
  },
  {
   "cell_type": "code",
   "execution_count": 17,
   "metadata": {},
   "outputs": [],
   "source": [
    "def SelectIndexAndScreenshot(Px,ContourType,indices_x,indices_y,indices_z,ct_np,struct_np):\n",
    "    if len(indices_x)>0 and len(indices_y)>0 and len(indices_z)>0: \n",
    "        randomc_x = random.choice(indices_x)\n",
    "        randomc_y = random.choice(indices_y)\n",
    "        randomc_z = random.choice(indices_z)\n",
    "        Screenshot(ct_np,struct_np,randomc_x,randomc_y,randomc_z,True,Px,ContourType)\n",
    "    else:\n",
    "        print(Px,\"Indices not >0\",ContourType)"
   ]
  },
  {
   "cell_type": "code",
   "execution_count": 18,
   "metadata": {},
   "outputs": [],
   "source": [
    "def MainDisplayTumor(Px,ct_path,structP_path,structN_path,structTypeString,screenshot_bool):\n",
    "    missingMaxExp,missingGTV,shapesErrorGTV,emptyGTVp,emptyGTVn = False,False,False,False,False\n",
    "    if len(ct_path) ==0:\n",
    "        missingMaxExp = True\n",
    "    if len(structP_path)==0 and len(structN_path)==0:\n",
    "        missingGTV = True\n",
    "    if len(ct_path)>0 and len(structP_path)>0 and len(structN_path)>0:\n",
    "        gtvp_np  = nib.load(structP_path[0]).get_fdata()\n",
    "        gtvn_np  = nib.load(structN_path[0]).get_fdata()\n",
    "        bp50_np  = nib.load(ct_path[0]).get_fdata()\n",
    "        if gtvp_np.shape !=bp50_np.shape or len(gtvp_np.shape)==1:\n",
    "            shapesErrorGTV = True\n",
    "        else:\n",
    "            indicespX,indicespY,indicespZ =CreateIndices(gtvp_np)\n",
    "            if len(indicespX)>0 and len(indicespY)>0 and len(indicespZ)>0:\n",
    "                if screenshot_bool:\n",
    "                    SelectIndexAndScreenshot(Px,structTypeString+\"p\",indicespX,indicespY,indicespZ,bp50_np,gtvp_np)\n",
    "                    print(Px,\"Created\",structTypeString,\"p\")\n",
    "            else:\n",
    "                emptyGTVp = True\n",
    "            indicesnX,indicesnY,indicesnZ =CreateIndices(gtvn_np)\n",
    "            if len(indicespX)>0 and len(indicespY)>0 and len(indicespZ)>0:\n",
    "                if screenshot_bool:\n",
    "                    SelectIndexAndScreenshot(Px,structTypeString+\"n\",indicesnX,indicesnY,indicesnZ,bp50_np,gtvn_np)\n",
    "                    print(Px,\"Created\",structTypeString+\"n\")\n",
    "            else:\n",
    "                emptyGTVn = True\n",
    "    return missingMaxExp,missingGTV,shapesErrorGTV,emptyGTVp,emptyGTVn"
   ]
  },
  {
   "cell_type": "code",
   "execution_count": 19,
   "metadata": {},
   "outputs": [],
   "source": [
    "def main(screenshot_bool,root_NiiProcessed,PxList):\n",
    "    listStatusPx = []\n",
    "    for Px in PxList:\n",
    "        planCT_list,_,bp50_list,_,itvP_list,itvN_list,gtvP_list, gtvN_list = LookFiles_Snapshot(root_NiiProcessed+Px)\n",
    "\n",
    "        missingPlanCT,missingITV,shapesErrorITV,emptyITVp,emptyITVn = MainDisplayTumor(Px,planCT_list,itvP_list,itvN_list,\"ITV\",screenshot_bool)\n",
    "        missingMaxExp,missingGTV,shapesErrorGTV,emptyGTVp,emptyGTVn = MainDisplayTumor(Px,bp50_list,gtvP_list,gtvN_list,\"GTV\",screenshot_bool)\n",
    "        \n",
    "        listStatusPx.append([Px,missingPlanCT,missingMaxExp, missingITV,missingGTV,shapesErrorITV,shapesErrorGTV,emptyITVp,emptyITVn,emptyGTVp,emptyGTVn])\n",
    "    return listStatusPx\n",
    "\n",
    "listStatusPx = main(False,root_NiiProcessed,PxList)"
   ]
  },
  {
   "cell_type": "code",
   "execution_count": 20,
   "metadata": {},
   "outputs": [],
   "source": [
    "#Save PxList status on df\n",
    "columns = [\"Px\",\"missingPlanCT\",\"missingMaxExp\", \"missingITV\",\"missingGTV\",\"shapesErrorITV\",\"shapesErrorGTV\",\"emptyITVp\",\"emptyITVn\",\"emptyGTVp\",\"emptyGTVn\"]\n",
    "df = pd.DataFrame(listStatusPx, columns=columns)\n",
    "df.to_csv(root_2SaveCSVs+'NiiProcessed_Status_V1.csv', index=False)"
   ]
  },
  {
   "cell_type": "code",
   "execution_count": null,
   "metadata": {},
   "outputs": [],
   "source": []
  },
  {
   "cell_type": "code",
   "execution_count": null,
   "metadata": {},
   "outputs": [],
   "source": []
  },
  {
   "cell_type": "code",
   "execution_count": null,
   "metadata": {},
   "outputs": [],
   "source": []
  },
  {
   "cell_type": "code",
   "execution_count": null,
   "metadata": {},
   "outputs": [],
   "source": []
  },
  {
   "cell_type": "code",
   "execution_count": null,
   "metadata": {},
   "outputs": [],
   "source": []
  },
  {
   "cell_type": "code",
   "execution_count": null,
   "metadata": {},
   "outputs": [],
   "source": []
  },
  {
   "cell_type": "code",
   "execution_count": null,
   "metadata": {},
   "outputs": [],
   "source": []
  },
  {
   "cell_type": "code",
   "execution_count": null,
   "metadata": {},
   "outputs": [],
   "source": []
  },
  {
   "cell_type": "code",
   "execution_count": null,
   "metadata": {},
   "outputs": [],
   "source": []
  },
  {
   "cell_type": "code",
   "execution_count": null,
   "metadata": {},
   "outputs": [],
   "source": []
  },
  {
   "cell_type": "code",
   "execution_count": null,
   "metadata": {},
   "outputs": [],
   "source": []
  },
  {
   "cell_type": "code",
   "execution_count": null,
   "metadata": {},
   "outputs": [],
   "source": []
  },
  {
   "cell_type": "code",
   "execution_count": null,
   "metadata": {},
   "outputs": [],
   "source": []
  }
 ],
 "metadata": {
  "kernelspec": {
   "display_name": "Python 3 (ipykernel)",
   "language": "python",
   "name": "python3"
  },
  "language_info": {
   "codemirror_mode": {
    "name": "ipython",
    "version": 3
   },
   "file_extension": ".py",
   "mimetype": "text/x-python",
   "name": "python",
   "nbconvert_exporter": "python",
   "pygments_lexer": "ipython3",
   "version": "3.10.12"
  }
 },
 "nbformat": 4,
 "nbformat_minor": 4
}
