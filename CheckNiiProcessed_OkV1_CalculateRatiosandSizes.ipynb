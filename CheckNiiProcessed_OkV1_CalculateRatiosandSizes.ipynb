{
 "cells": [
  {
   "cell_type": "code",
   "execution_count": 21,
   "metadata": {},
   "outputs": [],
   "source": [
    "import matplotlib.pyplot as plt\n",
    "import nibabel as nib\n",
    "import numpy as np\n",
    "from skimage import morphology\n",
    "import os\n",
    "import random"
   ]
  },
  {
   "cell_type": "code",
   "execution_count": 22,
   "metadata": {},
   "outputs": [],
   "source": [
    "root = \"Z:/Projectline_modelling_lung_cancer/Nii_Processed2/\""
   ]
  },
  {
   "cell_type": "code",
   "execution_count": 23,
   "metadata": {},
   "outputs": [
    {
     "data": {
      "text/plain": [
       "11"
      ]
     },
     "execution_count": 23,
     "metadata": {},
     "output_type": "execute_result"
    }
   ],
   "source": [
    "PxList = os.listdir(root)\n",
    "len(PxList)"
   ]
  },
  {
   "cell_type": "code",
   "execution_count": 24,
   "metadata": {},
   "outputs": [],
   "source": [
    "def LookFiles_Snapshot(folder_path):\n",
    "    planCT_list,planCTLung_list = ([],[])\n",
    "    bp50_list, bp50Lung_list = ([],[])\n",
    "    gtv_list, itv_list = ([],[])\n",
    "    for root,dirs,files in os.walk(folder_path):\n",
    "        for f in files:\n",
    "            if \"PlanCT_CTProcessed.nii\" in f:\n",
    "                planCT_list.append(os.path.join(folder_path,f))\n",
    "            if \"PlanCT_LungProcessed.nii\" in f:\n",
    "                planCTLung_list.append(os.path.join(folder_path,f))\n",
    "            if \"bp50_CTProcessed.nii\" in f:\n",
    "                bp50_list.append(os.path.join(folder_path,f))\n",
    "            if \"bp50_LungProcessed.nii\" in f:\n",
    "                bp50Lung_list.append(os.path.join(folder_path,f))\n",
    "            if \"GTV\" in f:\n",
    "                gtv_list.append(os.path.join(folder_path,f))\n",
    "            if \"ITV\" in f:\n",
    "                itv_list.append(os.path.join(folder_path,f))\n",
    "    \n",
    "    #print(\"Len of Files\",len(planCT_list),len(planCTLung_list),len(bp50_list),len(bp50Lung_list),len(gtv_list),len(itv_list))\n",
    "\n",
    "\n",
    "    return planCT_list,planCTLung_list,bp50_list,bp50Lung_list,gtv_list,itv_list\n",
    "    "
   ]
  },
  {
   "cell_type": "code",
   "execution_count": null,
   "metadata": {},
   "outputs": [],
   "source": []
  },
  {
   "cell_type": "code",
   "execution_count": 25,
   "metadata": {},
   "outputs": [],
   "source": [
    "def largestRatio(struct_np):\n",
    "    ratioVal_x,ratioVal_y,ratioVal_z = 0,0,0\n",
    "    listRatios_x,listRatios_y,listRatios_z = [],[],[]\n",
    "    #Z\n",
    "    maxRatio = 0\n",
    "    for i in range(struct_np.shape[-1]):\n",
    "        if np.sum(struct_np[:,:,i])>0:\n",
    "            currPosSum = np.sum(struct_np[:,:,i])\n",
    "            currTotSum = struct_np.shape[0]*struct_np.shape[1]\n",
    "            currRatio = currPosSum/currTotSum\n",
    "            listRatios_z.append(currRatio)\n",
    "            if currRatio>maxRatio:\n",
    "                maxRatio = currRatio\n",
    "                maxSlide = i\n",
    "    ratioVal_z = maxRatio\n",
    "    maxSlide_z = maxSlide\n",
    "    #Y\n",
    "    maxRatio = 0\n",
    "    for i in range(struct_np.shape[-2]):\n",
    "        if np.sum(struct_np[:,i,:])>0:\n",
    "            currPosSum = np.sum(struct_np[:,i,:])\n",
    "            currTotSum = struct_np.shape[0]*struct_np.shape[2]\n",
    "            currRatio = currPosSum/currTotSum\n",
    "            listRatios_y.append(currRatio)\n",
    "            if currRatio>maxRatio:\n",
    "                maxRatio = currRatio\n",
    "                maxSlide = i\n",
    "    ratioVal_y = maxRatio\n",
    "    maxSlide_y = maxSlide\n",
    "    #X\n",
    "    maxRatio = 0\n",
    "    for i in range(struct_np.shape[-3]):\n",
    "        if np.sum(struct_np[i,:,:])>0:\n",
    "            currPosSum = np.sum(struct_np[i,:,:])\n",
    "            currTotSum = struct_np.shape[1]*struct_np.shape[2]\n",
    "            currRatio = currPosSum/currTotSum\n",
    "            listRatios_x.append(currRatio)\n",
    "            if currRatio>maxRatio:\n",
    "                maxRatio = currRatio\n",
    "                maxSlide = i\n",
    "    ratioVal_x = maxRatio\n",
    "    maxSlide_x = maxSlide\n",
    "\n",
    "    return listRatios_x,listRatios_y,listRatios_z,ratioVal_x,ratioVal_y,ratioVal_z,maxSlide_x,maxSlide_y,maxSlide_z"
   ]
  },
  {
   "cell_type": "code",
   "execution_count": 26,
   "metadata": {},
   "outputs": [
    {
     "name": "stdout",
     "output_type": "stream",
     "text": [
      "Unique Shapes [array([320]), array([320]), array([320])]\n",
      "Avg GTV Mm3 56947.5 in ml  56.9475\n",
      "Median GTV Mm3 30319.5 in ml  30.3195\n",
      "Max Ratio Avg [1.50419922 1.28662109 1.37666016]\n",
      "Avg Ratio Avg [0.78645735 0.70161881 0.78864796]\n",
      "Avg Ratio Median [0.52197266 0.52197266 0.4934082 ]\n",
      "Num of Px 11 Ok 10 err 1\n"
     ]
    }
   ],
   "source": [
    "listOfShapes_X,listOfShapes_Y,listOfShapes_Z = [],[],[]\n",
    "gtvSums_list = []\n",
    "listMaxRatios = []\n",
    "listAvgRatios = []\n",
    "listMedianRatios = []\n",
    "okPx,errorPx = [],[]\n",
    "\n",
    "for Px in PxList:\n",
    "    planCT_list,planCTLung_list,bp50_list,bp50Lung_list,gtv_list,itv_list = LookFiles_Snapshot(root+Px)\n",
    "    flagOkPx = False\n",
    "    #ReadImages\n",
    "    if False:\n",
    "        ct_np  = nib.load(planCT_list[0]).get_fdata()\n",
    "        lung_np  = nib.load(planCTLung_list[0]).get_fdata()\n",
    "        bp50_np  = nib.load(bp50_list[0]).get_fdata()\n",
    "        bp50Lung_np  = nib.load(bp50Lung_list[0]).get_fdata()\n",
    "        aveLung_filled = FixHoles(lung_np)\n",
    "        bp50Lung_filled = FixHoles(bp50Lung_np)\n",
    "\n",
    "    if len(planCT_list)==0 and len(bp50_list)==0:\n",
    "            errorPx.append(Px)\n",
    "    elif len(itv_list)==0 and len(gtv_list)==0:\n",
    "            errorPx.append(Px)\n",
    "    elif len(gtv_list)>0:\n",
    "        tum_np  = nib.load(gtv_list[0]).get_fdata()\n",
    "        flagOkPx = True\n",
    "    else:\n",
    "        tum_np  = nib.load(itv_list[0]).get_fdata()\n",
    "        flagOkPx = True\n",
    "        \n",
    "\n",
    "    if flagOkPx:\n",
    "        #Calculations\n",
    "        tum_filled = FixHoles(tum_np)\n",
    "        if np.sum(tum_filled)!=0:\n",
    "            okPx.append(Px)\n",
    "            listOfShapes_X.append(tum_filled.shape[0])\n",
    "            listOfShapes_Y.append(tum_filled.shape[1])\n",
    "            listOfShapes_Z.append(tum_filled.shape[2])\n",
    "            gtvSums_list.append(np.sum(tum_filled))\n",
    "\n",
    "            listRatios_x,listRatios_y,listRatios_z,ratioVal_x,ratioVal_y,ratioVal_z,maxSlide_x,maxSlide_y,maxSlide_z = largestRatio(tum_filled)\n",
    "        \n",
    "            listMaxRatios.append([ratioVal_x,ratioVal_y,ratioVal_z])\n",
    "            listAvgRatios.append([np.mean(listRatios_x),np.mean(listRatios_y),np.mean(listRatios_z)])\n",
    "            listMedianRatios.append([np.median(listRatios_x),np.median(listRatios_y),np.median(listRatios_z)])\n",
    "        else:\n",
    "            errorPx.append(Px)\n",
    "\n",
    "        \n",
    "listOfUniquesShapes = [np.unique(listOfShapes_X),np.unique(listOfShapes_Y),np.unique(listOfShapes_Z)]\n",
    "\n",
    "\n",
    "gtvSum_Avg = np.mean(gtvSums_list)\n",
    "gtvSum_Median = np.median(gtvSums_list)\n",
    "maxRatio_Avg = np.mean(listMaxRatios,0)\n",
    "avgRatio_Avg = np.mean(listAvgRatios,0)\n",
    "avgRatio_Med = np.median(listMedianRatios,0)\n",
    "\n",
    "print(\"Unique Shapes\",listOfUniquesShapes)\n",
    "print(\"Avg GTV Mm3\",gtvSum_Avg,\"in ml \",gtvSum_Avg/1000)\n",
    "print(\"Median GTV Mm3\",gtvSum_Median,\"in ml \",gtvSum_Median/1000)\n",
    "print(\"Max Ratio Avg\",maxRatio_Avg*100)\n",
    "print(\"Avg Ratio Avg\",avgRatio_Avg*100)\n",
    "print(\"Avg Ratio Median\", avgRatio_Med*100)\n",
    "print(\"Num of Px\",len(PxList),\"Ok\",len(okPx),\"err\",len(errorPx))\n"
   ]
  },
  {
   "cell_type": "code",
   "execution_count": 27,
   "metadata": {},
   "outputs": [
    {
     "name": "stdout",
     "output_type": "stream",
     "text": [
      "Max Ratio Avg [1.50419922 1.28662109 1.37666016]\n",
      "Avg Ratio Avg [0.78645735 0.70161881 0.78864796]\n",
      "Avg Ratio Median [0.52197266 0.52197266 0.4934082 ]\n"
     ]
    }
   ],
   "source": [
    "print(\"Max Ratio Avg\",maxRatio_Avg*100)\n",
    "print(\"Avg Ratio Avg\",avgRatio_Avg*100)\n",
    "print(\"Avg Ratio Median\", avgRatio_Med*100)"
   ]
  },
  {
   "cell_type": "code",
   "execution_count": 31,
   "metadata": {},
   "outputs": [],
   "source": [
    "def Screenshot(ct_np,gtv_np,middle_x,middle_y,middle_z,contourBool=True,Px2Save=None,ImageType=None):\n",
    "    minHU = -1024\n",
    "    maxHU = 600\n",
    "    savebool = True\n",
    "    root2save= \"Z:/Projectline_modelling_lung_cancer/JPEGs/Processed/V2/\"\n",
    "    if Px2Save is not None:\n",
    "        pathToSave = os.path.join(root2save,Px2Save)\n",
    "        if not(os.path.exists(pathToSave)):\n",
    "            os.mkdir(pathToSave)\n",
    "    \n",
    "    print(middle_x,middle_y,middle_z,Px2Save,ct_np.shape,ImageType,gtv_np.shape)\n",
    "\n",
    "    \n",
    "    clipped_image = np.clip(ct_np, minHU, maxHU)\n",
    "    #middle_x,middle_y,middle_z = getMiddleSlices(gtv_np)\n",
    "    plt.figure(figsize=(15, 15), dpi=300)\n",
    "    plt.imshow(clipped_image[:,:,middle_z],cmap='gray'),plt.axis('off')#,plt.colorbar()\n",
    "    plt.title(\"Z:\"+str(middle_z))\n",
    "    if contourBool:\n",
    "        plt.contour(gtv_np[:,:,middle_z],linewidths=0.5,colors='r')\n",
    "    if not(savebool): \n",
    "        plt.show()\n",
    "    else:\n",
    "        plt.savefig(pathToSave+\"/\"+ImageType+\"_Axial.jpeg\")\n",
    "        plt.close()\n",
    "    plt.figure(figsize=(15, 15), dpi=300)\n",
    "    plt.imshow(np.rot90(clipped_image[:,middle_y,:]),cmap='gray'),plt.axis('off')#,plt.colorbar()\n",
    "    plt.title(\"Y:\"+str(middle_y))\n",
    "    if contourBool:\n",
    "        plt.contour(np.rot90(gtv_np[:,middle_y,:]),linewidths=0.5,colors='r')\n",
    "    if not(savebool): \n",
    "        plt.show()\n",
    "    else:\n",
    "        plt.savefig(pathToSave+\"/\"+ImageType+\"_Sagital.jpeg\")\n",
    "        plt.close()\n",
    "    plt.figure(figsize=(15, 15), dpi=300)\n",
    "    plt.imshow(np.rot90(clipped_image[middle_x,:,:]),cmap='gray'),plt.axis('off')#,plt.colorbar()\n",
    "    plt.title(\"X:\"+str(middle_x))\n",
    "    if contourBool:\n",
    "        plt.contour(np.rot90(gtv_np[middle_x,:,:]),linewidths=0.5,colors='r')\n",
    "    if not(savebool): \n",
    "        plt.show()\n",
    "    else:\n",
    "        plt.savefig(pathToSave+\"/\"+ImageType+\"_Coronal.jpeg\")\n",
    "        plt.close()"
   ]
  },
  {
   "cell_type": "code",
   "execution_count": 32,
   "metadata": {},
   "outputs": [],
   "source": [
    "\n",
    "def CountSlidesPerCategory(struct_np,tumorSlide_Tresh):\n",
    "    #Z\n",
    "    countTum_z = 0\n",
    "    countSemi_z =0\n",
    "    indices_Tum_z = []\n",
    "    indices_Semi_z = []\n",
    "    for i in range(struct_np.shape[-1]):\n",
    "        if np.sum(struct_np[:,:,i])>0:\n",
    "            currRatio = np.sum(struct_np[:,:,i])/(struct_np.shape[0]*struct_np.shape[1])\n",
    "            if currRatio > tumorSlide_Tresh[-1]:\n",
    "                countTum_z+=1\n",
    "                indices_Tum_z.append(i)\n",
    "            elif currRatio > 0:\n",
    "                countSemi_z+=1\n",
    "                indices_Semi_z.append(i)\n",
    "    #Y\n",
    "    countTum_y = 0\n",
    "    countSemi_y =0\n",
    "    indices_Tum_y= []\n",
    "    indices_Semi_y = []\n",
    "    for i in range(struct_np.shape[-2]):\n",
    "        if np.sum(struct_np[:,i,:])>0:\n",
    "            currRatio = np.sum(struct_np[:,i,:])/(struct_np.shape[0]*struct_np.shape[2])\n",
    "            if currRatio > tumorSlide_Tresh[-2]:\n",
    "                countTum_y+=1\n",
    "                indices_Tum_y.append(i)\n",
    "            elif currRatio > 0:\n",
    "                countSemi_y+=1\n",
    "                indices_Semi_y.append(i)\n",
    "    #X\n",
    "    countTum_x = 0\n",
    "    countSemi_x =0\n",
    "    indices_Tum_x= []\n",
    "    indices_Semi_x = []\n",
    "    for i in range(struct_np.shape[-3]):\n",
    "        if np.sum(struct_np[i,:,:])>0:\n",
    "            currRatio = np.sum(struct_np[i,:,:])/(struct_np.shape[1]*struct_np.shape[2])\n",
    "            if currRatio > tumorSlide_Tresh[-3]:\n",
    "                countTum_x+=1\n",
    "                indices_Tum_x.append(i)\n",
    "            elif currRatio > 0:\n",
    "                countSemi_x+=1\n",
    "                indices_Semi_x.append(i)\n",
    "\n",
    "    \n",
    "    #return countTum_x,countTum_y,countTum_z,countSemi_x,countSemi_y,countSemi_z,\n",
    "    return indices_Tum_x,indices_Tum_y,indices_Tum_z,indices_Semi_x,indices_Semi_y,indices_Semi_z"
   ]
  },
  {
   "cell_type": "code",
   "execution_count": 33,
   "metadata": {},
   "outputs": [],
   "source": [
    "factor=.2\n",
    "tumorSlide_AvgTresh = [avgRatio_Avg[0]*factor,avgRatio_Avg[1]*factor,avgRatio_Avg[2]*factor]\n",
    "tumorSlide_MediTresh = [avgRatio_Med[0]*factor,avgRatio_Med[1]*factor,avgRatio_Med[2]*factor]"
   ]
  },
  {
   "cell_type": "code",
   "execution_count": 37,
   "metadata": {},
   "outputs": [
    {
     "name": "stdout",
     "output_type": "stream",
     "text": [
      "271 211 115 1007981 (500, 500, 310) ITVTumor (500, 500, 310)\n",
      "242 194 109 1007981 (500, 500, 310) ITVSemiTumor (500, 500, 310)\n",
      "Tot Tumor 43 33 39\n",
      "Tot SemiT 7 5 5\n"
     ]
    }
   ],
   "source": [
    "totTum_x,totTum_y,totTum_z = 0,0,0\n",
    "totSemi_x,totSemi_y,totSemi_z = 0,0,0\n",
    "count=0\n",
    "for Px in okPx:\n",
    "    Px = str(1007981)\n",
    "    planCT_list,planCTLung_list,bp50_list,bp50Lung_list,gtv_list,itv_list = LookFiles_Snapshot(root+Px)\n",
    "    \n",
    "    if len(gtv_list)>0:\n",
    "        tum_np  = nib.load(gtv_list[0]).get_fdata()\n",
    "        ct_np  = nib.load(bp50_list[0]).get_fdata()\n",
    "        tum_filled = FixHoles(tum_np)\n",
    "        ContourType=\"GTV\"\n",
    "    else:\n",
    "        tum_np  = nib.load(itv_list[0]).get_fdata()\n",
    "        ct_np  = nib.load(planCT_list[0]).get_fdata()\n",
    "        tum_filled = FixHoles(tum_np)\n",
    "        ContourType=\"ITV\"\n",
    "\n",
    "    #countTum_x,countTum_y,countTum_z,countSemi_x,countSemi_y,countSemi_z = CountSlidesPerCategory(tum_filled,tumorSlide_MediTresh)\n",
    "    indices_Tum_x,indices_Tum_y,indices_Tum_z,indices_Semi_x,indices_Semi_y,indices_Semi_z= CountSlidesPerCategory(tum_filled,tumorSlide_MediTresh)\n",
    "    \n",
    "    totTum_x+=len(indices_Tum_x)\n",
    "    totTum_y+=len(indices_Tum_y)\n",
    "    totTum_z+=len(indices_Tum_z)\n",
    "\n",
    "    totSemi_x+=len(indices_Semi_x)\n",
    "    totSemi_y+=len(indices_Semi_y)\n",
    "    totSemi_z+=len(indices_Semi_z)\n",
    "\n",
    "    if len(indices_Tum_x)!=0: randomcTumorX = random.choice(indices_Tum_x)\n",
    "    else: randomcTumorX = 0\n",
    "    if len(indices_Tum_y)!=0: randomcTumorY = random.choice(indices_Tum_y)\n",
    "    else: randomcTumorY = 0\n",
    "    if len(indices_Tum_z)!=0: randomcTumorZ = random.choice(indices_Tum_z)\n",
    "    else: randomcTumorZ = 0 \n",
    "\n",
    "    #Screenshot(ct_np,tum_filled,randomcTumorX,randomcTumorY,randomcTumorZ,False,Px,ContourType+\"TumorOff\")\n",
    "    Screenshot(ct_np,tum_filled,randomcTumorX,randomcTumorY,randomcTumorZ,True,Px,ContourType+\"Tumor\")\n",
    "    \n",
    "    if len(indices_Semi_x)!=0: randomcTumorX = random.choice(indices_Semi_x)\n",
    "    else: randomcTumorX = 0\n",
    "    if len(indices_Semi_y)!=0: randomcTumorY = random.choice(indices_Semi_y)\n",
    "    else: randomcTumorY = 0\n",
    "    if len(indices_Semi_z)!=0: randomcTumorZ = random.choice(indices_Semi_z)\n",
    "    else: randomcTumorZ = 0 \n",
    "    \n",
    "    #Screenshot(ct_np,tum_filled,randomcTumorX,randomcTumorY,randomcTumorZ,False,Px,ContourType+\"SemiOff\")\n",
    "    Screenshot(ct_np,tum_filled,randomcTumorX,randomcTumorY,randomcTumorZ,True,Px,ContourType+\"SemiTumor\")\n",
    "\n",
    "    break\n",
    "    \n",
    "print(\"Tot Tumor\",totTum_x,totTum_y,totTum_z)\n",
    "print(\"Tot SemiT\",totSemi_x,totSemi_y,totSemi_z)"
   ]
  },
  {
   "cell_type": "code",
   "execution_count": 20,
   "metadata": {},
   "outputs": [
    {
     "data": {
      "text/plain": [
       "((320, 320, 320), (320, 320, 320))"
      ]
     },
     "execution_count": 20,
     "metadata": {},
     "output_type": "execute_result"
    }
   ],
   "source": [
    "ct_np.shape,tum_filled.shape"
   ]
  },
  {
   "cell_type": "code",
   "execution_count": 42,
   "metadata": {},
   "outputs": [
    {
     "data": {
      "text/plain": [
       "-1"
      ]
     },
     "execution_count": 42,
     "metadata": {},
     "output_type": "execute_result"
    }
   ],
   "source": [
    "#1007981 - Is incorrect"
   ]
  },
  {
   "cell_type": "code",
   "execution_count": 43,
   "metadata": {},
   "outputs": [
    {
     "data": {
      "text/plain": [
       "-1"
      ]
     },
     "execution_count": 43,
     "metadata": {},
     "output_type": "execute_result"
    }
   ],
   "source": [
    "indices_Tum_z"
   ]
  },
  {
   "cell_type": "code",
   "execution_count": null,
   "metadata": {},
   "outputs": [],
   "source": []
  }
 ],
 "metadata": {
  "kernelspec": {
   "display_name": "Python 3 (ipykernel)",
   "language": "python",
   "name": "python3"
  },
  "language_info": {
   "codemirror_mode": {
    "name": "ipython",
    "version": 3
   },
   "file_extension": ".py",
   "mimetype": "text/x-python",
   "name": "python",
   "nbconvert_exporter": "python",
   "pygments_lexer": "ipython3",
   "version": "3.9.19"
  }
 },
 "nbformat": 4,
 "nbformat_minor": 4
}
