{
 "cells": [
  {
   "cell_type": "code",
   "execution_count": 1,
   "metadata": {},
   "outputs": [],
   "source": [
    "import matplotlib.pyplot as plt\n",
    "import nibabel as nib\n",
    "import numpy as np\n",
    "from skimage import morphology\n",
    "import os\n",
    "import random"
   ]
  },
  {
   "cell_type": "code",
   "execution_count": 2,
   "metadata": {},
   "outputs": [],
   "source": [
    "root = \"Z:/Projectline_modelling_lung_cancer/Nii_Processed/\""
   ]
  },
  {
   "cell_type": "code",
   "execution_count": 3,
   "metadata": {},
   "outputs": [
    {
     "data": {
      "text/plain": [
       "519"
      ]
     },
     "execution_count": 3,
     "metadata": {},
     "output_type": "execute_result"
    }
   ],
   "source": [
    "PxList = os.listdir(root)\n",
    "len(PxList)"
   ]
  },
  {
   "cell_type": "code",
   "execution_count": 4,
   "metadata": {},
   "outputs": [],
   "source": [
    "def LookFiles_Snapshot(folder_path):\n",
    "    planCT_list,planCTLung_list = ([],[])\n",
    "    bp50_list, bp50Lung_list = ([],[])\n",
    "    gtv_list, itv_list = ([],[])\n",
    "    for root,dirs,files in os.walk(folder_path):\n",
    "        for f in files:\n",
    "            if \"PlanCT_CTProcessed.nii\" in f:\n",
    "                planCT_list.append(os.path.join(folder_path,f))\n",
    "            if \"PlanCT_LungProcessed.nii\" in f:\n",
    "                planCTLung_list.append(os.path.join(folder_path,f))\n",
    "            if \"bp50_CTProcessed.nii\" in f:\n",
    "                bp50_list.append(os.path.join(folder_path,f))\n",
    "            if \"bp50_LungProcessed.nii\" in f:\n",
    "                bp50Lung_list.append(os.path.join(folder_path,f))\n",
    "            if \"GTV\" in f:\n",
    "                gtv_list.append(os.path.join(folder_path,f))\n",
    "            if \"ITV\" in f:\n",
    "                itv_list.append(os.path.join(folder_path,f))\n",
    "    \n",
    "    #print(\"Len of Files\",len(planCT_list),len(planCTLung_list),len(bp50_list),len(bp50Lung_list),len(gtv_list),len(itv_list))\n",
    "\n",
    "\n",
    "    return planCT_list,planCTLung_list,bp50_list,bp50Lung_list,gtv_list,itv_list\n",
    "    "
   ]
  },
  {
   "cell_type": "code",
   "execution_count": 5,
   "metadata": {},
   "outputs": [],
   "source": [
    "def FixHoles(struct_np):\n",
    "    struct_np[struct_np>0] = 1\n",
    "    struct_bool = morphology.binary_closing(struct_np.astype(bool))\n",
    "    struct_filled = struct_bool.astype(np.uint8)\n",
    "    return struct_filled\n"
   ]
  },
  {
   "cell_type": "code",
   "execution_count": 6,
   "metadata": {},
   "outputs": [],
   "source": [
    "def largestRatio(struct_np):\n",
    "    ratioVal_x,ratioVal_y,ratioVal_z = 0,0,0\n",
    "    listRatios_x,listRatios_y,listRatios_z = [],[],[]\n",
    "    #Z\n",
    "    maxRatio = 0\n",
    "    for i in range(struct_np.shape[-1]):\n",
    "        if np.sum(struct_np[:,:,i])>0:\n",
    "            currPosSum = np.sum(struct_np[:,:,i])\n",
    "            currTotSum = struct_np.shape[0]*struct_np.shape[1]\n",
    "            currRatio = currPosSum/currTotSum\n",
    "            listRatios_z.append(currRatio)\n",
    "            if currRatio>maxRatio:\n",
    "                maxRatio = currRatio\n",
    "                maxSlide = i\n",
    "    ratioVal_z = maxRatio\n",
    "    maxSlide_z = maxSlide\n",
    "    #Y\n",
    "    maxRatio = 0\n",
    "    for i in range(struct_np.shape[-2]):\n",
    "        if np.sum(struct_np[:,i,:])>0:\n",
    "            currPosSum = np.sum(struct_np[:,i,:])\n",
    "            currTotSum = struct_np.shape[0]*struct_np.shape[2]\n",
    "            currRatio = currPosSum/currTotSum\n",
    "            listRatios_y.append(currRatio)\n",
    "            if currRatio>maxRatio:\n",
    "                maxRatio = currRatio\n",
    "                maxSlide = i\n",
    "    ratioVal_y = maxRatio\n",
    "    maxSlide_y = maxSlide\n",
    "    #X\n",
    "    maxRatio = 0\n",
    "    for i in range(struct_np.shape[-3]):\n",
    "        if np.sum(struct_np[i,:,:])>0:\n",
    "            currPosSum = np.sum(struct_np[i,:,:])\n",
    "            currTotSum = struct_np.shape[1]*struct_np.shape[2]\n",
    "            currRatio = currPosSum/currTotSum\n",
    "            listRatios_x.append(currRatio)\n",
    "            if currRatio>maxRatio:\n",
    "                maxRatio = currRatio\n",
    "                maxSlide = i\n",
    "    ratioVal_x = maxRatio\n",
    "    maxSlide_x = maxSlide\n",
    "\n",
    "    return listRatios_x,listRatios_y,listRatios_z,ratioVal_x,ratioVal_y,ratioVal_z,maxSlide_x,maxSlide_y,maxSlide_z"
   ]
  },
  {
   "cell_type": "code",
   "execution_count": 7,
   "metadata": {},
   "outputs": [
    {
     "name": "stdout",
     "output_type": "stream",
     "text": [
      "Unique Shapes [array([256, 512]), array([320, 640]), array([160, 192, 224, 256, 288, 320, 352])]\n",
      "Avg GTV Mm3 79290.2435897436 in ml  79.2902435897436\n",
      "Median GTV Mm3 54087.0 in ml  54.087\n",
      "Max Ratio Avg [2.26988653 2.87871379 2.31516259]\n",
      "Avg Ratio Avg [1.15532609 1.40988098 1.22278501]\n",
      "Avg Ratio Median [0.8444553  0.99748884 0.91903687]\n",
      "Num of Px 519 Ok 468 err 51\n"
     ]
    }
   ],
   "source": [
    "listOfShapes_X,listOfShapes_Y,listOfShapes_Z = [],[],[]\n",
    "gtvSums_list = []\n",
    "listMaxRatios = []\n",
    "listAvgRatios = []\n",
    "listMedianRatios = []\n",
    "okPx,errorPx = [],[]\n",
    "\n",
    "for Px in PxList:\n",
    "    planCT_list,planCTLung_list,bp50_list,bp50Lung_list,gtv_list,itv_list = LookFiles_Snapshot(root+Px)\n",
    "    flagOkPx = False\n",
    "    #ReadImages\n",
    "    if False:\n",
    "        ct_np  = nib.load(planCT_list[0]).get_fdata()\n",
    "        lung_np  = nib.load(planCTLung_list[0]).get_fdata()\n",
    "        bp50_np  = nib.load(bp50_list[0]).get_fdata()\n",
    "        bp50Lung_np  = nib.load(bp50Lung_list[0]).get_fdata()\n",
    "        aveLung_filled = FixHoles(lung_np)\n",
    "        bp50Lung_filled = FixHoles(bp50Lung_np)\n",
    "\n",
    "    if len(planCT_list)==0 and len(bp50_list)==0:\n",
    "            errorPx.append(Px)\n",
    "    elif len(itv_list)==0 and len(gtv_list)==0:\n",
    "            errorPx.append(Px)\n",
    "    elif len(gtv_list)>0:\n",
    "        tum_np  = nib.load(gtv_list[0]).get_fdata()\n",
    "        flagOkPx = True\n",
    "    else:\n",
    "        tum_np  = nib.load(itv_list[0]).get_fdata()\n",
    "        flagOkPx = True\n",
    "        \n",
    "\n",
    "    if flagOkPx:\n",
    "        #Calculations\n",
    "        tum_filled = FixHoles(tum_np)\n",
    "        if np.sum(tum_filled)!=0:\n",
    "            okPx.append(Px)\n",
    "            listOfShapes_X.append(tum_filled.shape[0])\n",
    "            listOfShapes_Y.append(tum_filled.shape[1])\n",
    "            listOfShapes_Z.append(tum_filled.shape[2])\n",
    "            gtvSums_list.append(np.sum(tum_filled))\n",
    "\n",
    "            listRatios_x,listRatios_y,listRatios_z,ratioVal_x,ratioVal_y,ratioVal_z,maxSlide_x,maxSlide_y,maxSlide_z = largestRatio(tum_filled)\n",
    "        \n",
    "            listMaxRatios.append([ratioVal_x,ratioVal_y,ratioVal_z])\n",
    "            listAvgRatios.append([np.mean(listRatios_x),np.mean(listRatios_y),np.mean(listRatios_z)])\n",
    "            listMedianRatios.append([np.median(listRatios_x),np.median(listRatios_y),np.median(listRatios_z)])\n",
    "        else:\n",
    "            errorPx.append(Px)\n",
    "\n",
    "        \n",
    "listOfUniquesShapes = [np.unique(listOfShapes_X),np.unique(listOfShapes_Y),np.unique(listOfShapes_Z)]\n",
    "\n",
    "\n",
    "gtvSum_Avg = np.mean(gtvSums_list)\n",
    "gtvSum_Median = np.median(gtvSums_list)\n",
    "maxRatio_Avg = np.mean(listMaxRatios,0)\n",
    "avgRatio_Avg = np.mean(listAvgRatios,0)\n",
    "avgRatio_Med = np.median(listMedianRatios,0)\n",
    "\n",
    "print(\"Unique Shapes\",listOfUniquesShapes)\n",
    "print(\"Avg GTV Mm3\",gtvSum_Avg,\"in ml \",gtvSum_Avg/1000)\n",
    "print(\"Median GTV Mm3\",gtvSum_Median,\"in ml \",gtvSum_Median/1000)\n",
    "print(\"Max Ratio Avg\",maxRatio_Avg*100)\n",
    "print(\"Avg Ratio Avg\",avgRatio_Avg*100)\n",
    "print(\"Avg Ratio Median\", avgRatio_Med*100)\n",
    "print(\"Num of Px\",len(PxList),\"Ok\",len(okPx),\"err\",len(errorPx))\n"
   ]
  },
  {
   "cell_type": "code",
   "execution_count": 8,
   "metadata": {},
   "outputs": [
    {
     "name": "stdout",
     "output_type": "stream",
     "text": [
      "Max Ratio Avg [2.26988653 2.87871379 2.31516259]\n",
      "Avg Ratio Avg [1.15532609 1.40988098 1.22278501]\n",
      "Avg Ratio Median [0.8444553  0.99748884 0.91903687]\n"
     ]
    }
   ],
   "source": [
    "print(\"Max Ratio Avg\",maxRatio_Avg*100)\n",
    "print(\"Avg Ratio Avg\",avgRatio_Avg*100)\n",
    "print(\"Avg Ratio Median\", avgRatio_Med*100)"
   ]
  },
  {
   "cell_type": "code",
   "execution_count": 50,
   "metadata": {},
   "outputs": [],
   "source": [
    "def Screenshot(ct_np,gtv_np,middle_x,middle_y,middle_z,contourBool=True,Px2Save=None,ImageType=None):\n",
    "    minHU = -1024\n",
    "    maxHU = 600\n",
    "    savebool = True\n",
    "    root2save= \"Z:/Projectline_modelling_lung_cancer/JPEGs\"\n",
    "    if Px2Save is not None:\n",
    "        pathToSave = os.path.join(root2save,Px2Save)\n",
    "        if not(os.path.exists(pathToSave)):\n",
    "            os.mkdir(pathToSave)\n",
    "    \n",
    "    print(middle_x,middle_y,middle_z,Px2Save,ImageType)\n",
    "\n",
    "    \n",
    "    clipped_image = np.clip(ct_np, minHU, maxHU)\n",
    "    #middle_x,middle_y,middle_z = getMiddleSlices(gtv_np)\n",
    "    plt.figure(figsize=(15, 15), dpi=300)\n",
    "    plt.imshow(clipped_image[:,:,middle_z],cmap='gray'),plt.axis('off')#,plt.colorbar()\n",
    "    plt.title(\"Z:\"+str(middle_z))\n",
    "    if contourBool:\n",
    "        plt.contour(gtv_np[:,:,middle_z],linewidths=0.5,colors='r')\n",
    "    if not(savebool): \n",
    "        plt.show()\n",
    "    else:\n",
    "        plt.savefig(pathToSave+\"/\"+ImageType+\"_Axial.jpeg\")\n",
    "        plt.close()\n",
    "    plt.figure(figsize=(15, 15), dpi=300)\n",
    "    plt.imshow(np.rot90(clipped_image[:,middle_y,:]),cmap='gray'),plt.axis('off')#,plt.colorbar()\n",
    "    plt.title(\"Y:\"+str(middle_y))\n",
    "    if contourBool:\n",
    "        plt.contour(np.rot90(gtv_np[:,middle_y,:]),linewidths=0.5,colors='r')\n",
    "    if not(savebool): \n",
    "        plt.show()\n",
    "    else:\n",
    "        plt.savefig(pathToSave+\"/\"+ImageType+\"_Sagital.jpeg\")\n",
    "        plt.close()\n",
    "    plt.figure(figsize=(15, 15), dpi=300)\n",
    "    plt.imshow(np.rot90(clipped_image[middle_x,:,:]),cmap='gray'),plt.axis('off')#,plt.colorbar()\n",
    "    plt.title(\"X:\"+str(middle_x))\n",
    "    if contourBool:\n",
    "        plt.contour(np.rot90(gtv_np[middle_x,:,:]),linewidths=0.5,colors='r')\n",
    "    if not(savebool): \n",
    "        plt.show()\n",
    "    else:\n",
    "        plt.savefig(pathToSave+\"/\"+ImageType+\"_Coronal.jpeg\")\n",
    "        plt.close()"
   ]
  },
  {
   "cell_type": "code",
   "execution_count": 45,
   "metadata": {},
   "outputs": [],
   "source": [
    "\n",
    "def CountSlidesPerCategory(struct_np,tumorSlide_Tresh):\n",
    "    #Z\n",
    "    countTum_z = 0\n",
    "    countSemi_z =0\n",
    "    indices_Tum_z = []\n",
    "    indices_Semi_z = []\n",
    "    for i in range(struct_np.shape[-1]):\n",
    "        if np.sum(struct_np[:,:,i])>0:\n",
    "            currRatio = np.sum(struct_np[:,:,i])/(struct_np.shape[0]*struct_np.shape[1])\n",
    "            if currRatio > tumorSlide_Tresh[-1]:\n",
    "                countTum_z+=1\n",
    "                indices_Tum_z.append(i)\n",
    "            elif currRatio > 0:\n",
    "                countSemi_z+=1\n",
    "                indices_Semi_z.append(i)\n",
    "    #Y\n",
    "    countTum_y = 0\n",
    "    countSemi_y =0\n",
    "    indices_Tum_y= []\n",
    "    indices_Semi_y = []\n",
    "    for i in range(struct_np.shape[-2]):\n",
    "        if np.sum(struct_np[:,i,:])>0:\n",
    "            currRatio = np.sum(struct_np[:,i,:])/(struct_np.shape[0]*struct_np.shape[2])\n",
    "            if currRatio > tumorSlide_Tresh[-2]:\n",
    "                countTum_y+=1\n",
    "                indices_Tum_y.append(i)\n",
    "            elif currRatio > 0:\n",
    "                countSemi_y+=1\n",
    "                indices_Semi_y.append(i)\n",
    "    #X\n",
    "    countTum_x = 0\n",
    "    countSemi_x =0\n",
    "    indices_Tum_x= []\n",
    "    indices_Semi_x = []\n",
    "    for i in range(struct_np.shape[-3]):\n",
    "        if np.sum(struct_np[i,:,:])>0:\n",
    "            currRatio = np.sum(struct_np[i,:,:])/(struct_np.shape[1]*struct_np.shape[2])\n",
    "            if currRatio > tumorSlide_Tresh[-3]:\n",
    "                countTum_x+=1\n",
    "                indices_Tum_x.append(i)\n",
    "            elif currRatio > 0:\n",
    "                countSemi_x+=1\n",
    "                indices_Semi_x.append(i)\n",
    "\n",
    "    \n",
    "    #return countTum_x,countTum_y,countTum_z,countSemi_x,countSemi_y,countSemi_z,\n",
    "    return indices_Tum_x,indices_Tum_y,indices_Tum_z,indices_Semi_x,indices_Semi_y,indices_Semi_z"
   ]
  },
  {
   "cell_type": "code",
   "execution_count": 48,
   "metadata": {},
   "outputs": [],
   "source": [
    "factor=.2\n",
    "tumorSlide_AvgTresh = [avgRatio_Avg[0]*factor,avgRatio_Avg[1]*factor,avgRatio_Avg[2]*factor]\n",
    "tumorSlide_MediTresh = [avgRatio_Med[0]*factor,avgRatio_Med[1]*factor,avgRatio_Med[2]*factor]"
   ]
  },
  {
   "cell_type": "code",
   "execution_count": 51,
   "metadata": {},
   "outputs": [
    {
     "name": "stdout",
     "output_type": "stream",
     "text": [
      "109 191 171 1001187 GTVTumor\n",
      "92 141 239 1001187 GTVSemiTumor\n",
      "122 214 131 1007504 GTVTumor\n",
      "121 194 183 1007504 GTVSemiTumor\n",
      "169 132 101 1007981 GTVTumor\n",
      "181 114 71 1007981 GTVSemiTumor\n",
      "165 101 78 1011154 GTVTumor\n",
      "148 119 94 1011154 GTVSemiTumor\n",
      "144 149 245 1016604 GTVTumor\n",
      "109 176 185 1016604 GTVSemiTumor\n",
      "90 142 213 102687 ITVTumor\n",
      "159 218 107 102687 ITVSemiTumor\n",
      "166 103 78 1032629 GTVTumor\n",
      "103 40 98 1032629 GTVSemiTumor\n",
      "129 126 163 1034109 GTVTumor\n",
      "181 37 0 1034109 GTVSemiTumor\n",
      "140 118 184 1051094 GTVTumor\n",
      "156 116 250 1051094 GTVSemiTumor\n",
      "138 134 112 1056275 GTVTumor\n",
      "157 108 157 1056275 GTVSemiTumor\n",
      "74 54 131 1079887 GTVTumor\n",
      "168 157 218 1079887 GTVSemiTumor\n",
      "178 195 268 1098707 GTVTumor\n"
     ]
    },
    {
     "ename": "IndexError",
     "evalue": "index 268 is out of bounds for axis 2 with size 256",
     "output_type": "error",
     "traceback": [
      "\u001b[1;31m---------------------------------------------------------------------------\u001b[0m",
      "\u001b[1;31mIndexError\u001b[0m                                Traceback (most recent call last)",
      "Cell \u001b[1;32mIn[51], line 39\u001b[0m\n\u001b[0;32m     36\u001b[0m \u001b[38;5;28;01melse\u001b[39;00m: randomcTumorZ \u001b[38;5;241m=\u001b[39m \u001b[38;5;241m0\u001b[39m \n\u001b[0;32m     38\u001b[0m \u001b[38;5;66;03m#Screenshot(ct_np,tum_filled,randomcTumorX,randomcTumorY,randomcTumorZ,False,Px,ContourType+\"TumorOff\")\u001b[39;00m\n\u001b[1;32m---> 39\u001b[0m \u001b[43mScreenshot\u001b[49m\u001b[43m(\u001b[49m\u001b[43mct_np\u001b[49m\u001b[43m,\u001b[49m\u001b[43mtum_filled\u001b[49m\u001b[43m,\u001b[49m\u001b[43mrandomcTumorX\u001b[49m\u001b[43m,\u001b[49m\u001b[43mrandomcTumorY\u001b[49m\u001b[43m,\u001b[49m\u001b[43mrandomcTumorZ\u001b[49m\u001b[43m,\u001b[49m\u001b[38;5;28;43;01mTrue\u001b[39;49;00m\u001b[43m,\u001b[49m\u001b[43mPx\u001b[49m\u001b[43m,\u001b[49m\u001b[43mContourType\u001b[49m\u001b[38;5;241;43m+\u001b[39;49m\u001b[38;5;124;43m\"\u001b[39;49m\u001b[38;5;124;43mTumor\u001b[39;49m\u001b[38;5;124;43m\"\u001b[39;49m\u001b[43m)\u001b[49m\n\u001b[0;32m     41\u001b[0m \u001b[38;5;28;01mif\u001b[39;00m \u001b[38;5;28mlen\u001b[39m(indices_Semi_x)\u001b[38;5;241m!=\u001b[39m\u001b[38;5;241m0\u001b[39m: randomcTumorX \u001b[38;5;241m=\u001b[39m random\u001b[38;5;241m.\u001b[39mchoice(indices_Semi_x)\n\u001b[0;32m     42\u001b[0m \u001b[38;5;28;01melse\u001b[39;00m: randomcTumorX \u001b[38;5;241m=\u001b[39m \u001b[38;5;241m0\u001b[39m\n",
      "Cell \u001b[1;32mIn[50], line 17\u001b[0m, in \u001b[0;36mScreenshot\u001b[1;34m(ct_np, gtv_np, middle_x, middle_y, middle_z, contourBool, Px2Save, ImageType)\u001b[0m\n\u001b[0;32m     15\u001b[0m \u001b[38;5;66;03m#middle_x,middle_y,middle_z = getMiddleSlices(gtv_np)\u001b[39;00m\n\u001b[0;32m     16\u001b[0m plt\u001b[38;5;241m.\u001b[39mfigure(figsize\u001b[38;5;241m=\u001b[39m(\u001b[38;5;241m15\u001b[39m, \u001b[38;5;241m15\u001b[39m), dpi\u001b[38;5;241m=\u001b[39m\u001b[38;5;241m300\u001b[39m)\n\u001b[1;32m---> 17\u001b[0m plt\u001b[38;5;241m.\u001b[39mimshow(\u001b[43mclipped_image\u001b[49m\u001b[43m[\u001b[49m\u001b[43m:\u001b[49m\u001b[43m,\u001b[49m\u001b[43m:\u001b[49m\u001b[43m,\u001b[49m\u001b[43mmiddle_z\u001b[49m\u001b[43m]\u001b[49m,cmap\u001b[38;5;241m=\u001b[39m\u001b[38;5;124m'\u001b[39m\u001b[38;5;124mgray\u001b[39m\u001b[38;5;124m'\u001b[39m),plt\u001b[38;5;241m.\u001b[39maxis(\u001b[38;5;124m'\u001b[39m\u001b[38;5;124moff\u001b[39m\u001b[38;5;124m'\u001b[39m)\u001b[38;5;66;03m#,plt.colorbar()\u001b[39;00m\n\u001b[0;32m     18\u001b[0m plt\u001b[38;5;241m.\u001b[39mtitle(\u001b[38;5;124m\"\u001b[39m\u001b[38;5;124mZ:\u001b[39m\u001b[38;5;124m\"\u001b[39m\u001b[38;5;241m+\u001b[39m\u001b[38;5;28mstr\u001b[39m(middle_z))\n\u001b[0;32m     19\u001b[0m \u001b[38;5;28;01mif\u001b[39;00m contourBool:\n",
      "\u001b[1;31mIndexError\u001b[0m: index 268 is out of bounds for axis 2 with size 256"
     ]
    },
    {
     "data": {
      "text/plain": [
       "<Figure size 4500x4500 with 0 Axes>"
      ]
     },
     "metadata": {},
     "output_type": "display_data"
    }
   ],
   "source": [
    "\n",
    "\n",
    "totTum_x,totTum_y,totTum_z = 0,0,0\n",
    "totSemi_x,totSemi_y,totSemi_z = 0,0,0\n",
    "count=0\n",
    "for Px in okPx:\n",
    "    indices_Tum_x,indices_Tum_y,indices_Tum_z,indices_Semi_x,indices_Semi_y,indices_Semi_z = -1,-1,-1,-1,-1,-1\n",
    "    \n",
    "    planCT_list,planCTLung_list,bp50_list,bp50Lung_list,gtv_list,itv_list = LookFiles_Snapshot(root+Px)\n",
    "    \n",
    "    if len(gtv_list)>0:\n",
    "        tum_np  = nib.load(gtv_list[0]).get_fdata()\n",
    "        ct_np  = nib.load(bp50_list[0]).get_fdata()\n",
    "        tum_filled = FixHoles(tum_np)\n",
    "        ContourType=\"GTV\"\n",
    "    else:\n",
    "        tum_np  = nib.load(itv_list[0]).get_fdata()\n",
    "        ct_np  = nib.load(planCT_list[0]).get_fdata()\n",
    "        tum_filled = FixHoles(tum_np)\n",
    "        ContourType=\"ITV\"\n",
    "\n",
    "    #countTum_x,countTum_y,countTum_z,countSemi_x,countSemi_y,countSemi_z = CountSlidesPerCategory(tum_filled,tumorSlide_MediTresh)\n",
    "    indices_Tum_x,indices_Tum_y,indices_Tum_z,indices_Semi_x,indices_Semi_y,indices_Semi_z= CountSlidesPerCategory(tum_filled,tumorSlide_MediTresh)\n",
    "    \n",
    "    totTum_x+=len(indices_Tum_x)\n",
    "    totTum_y+=len(indices_Tum_y)\n",
    "    totTum_z+=len(indices_Tum_z)\n",
    "\n",
    "    totSemi_x+=len(indices_Semi_x)\n",
    "    totSemi_y+=len(indices_Semi_y)\n",
    "    totSemi_z+=len(indices_Semi_z)\n",
    "\n",
    "    if len(indices_Tum_x)!=0: randomcTumorX = random.choice(indices_Tum_x)\n",
    "    else: randomcTumorX = 0\n",
    "    if len(indices_Tum_y)!=0: randomcTumorY = random.choice(indices_Tum_y)\n",
    "    else: randomcTumorY = 0\n",
    "    if len(indices_Tum_z)!=0: randomcTumorZ = random.choice(indices_Tum_z)\n",
    "    else: randomcTumorZ = 0 \n",
    "\n",
    "    #Screenshot(ct_np,tum_filled,randomcTumorX,randomcTumorY,randomcTumorZ,False,Px,ContourType+\"TumorOff\")\n",
    "    Screenshot(ct_np,tum_filled,randomcTumorX,randomcTumorY,randomcTumorZ,True,Px,ContourType+\"Tumor\")\n",
    "    \n",
    "    if len(indices_Semi_x)!=0: randomcTumorX = random.choice(indices_Semi_x)\n",
    "    else: randomcTumorX = 0\n",
    "    if len(indices_Semi_y)!=0: randomcTumorY = random.choice(indices_Semi_y)\n",
    "    else: randomcTumorY = 0\n",
    "    if len(indices_Semi_z)!=0: randomcTumorZ = random.choice(indices_Semi_z)\n",
    "    else: randomcTumorZ = 0 \n",
    "    \n",
    "    #Screenshot(ct_np,tum_filled,randomcTumorX,randomcTumorY,randomcTumorZ,False,Px,ContourType+\"SemiOff\")\n",
    "    Screenshot(ct_np,tum_filled,randomcTumorX,randomcTumorY,randomcTumorZ,True,Px,ContourType+\"SemiTumor\")\n",
    "\n",
    "    if count>20:\n",
    "        break\n",
    "    else:\n",
    "        count+=1\n",
    "    \n",
    "print(\"Tot Tumor\",totTum_x,totTum_y,totTum_z)\n",
    "print(\"Tot SemiT\",totSemi_x,totSemi_y,totSemi_z)"
   ]
  },
  {
   "cell_type": "code",
   "execution_count": 52,
   "metadata": {},
   "outputs": [
    {
     "data": {
      "text/plain": [
       "((256, 320, 256), (256, 320, 288))"
      ]
     },
     "execution_count": 52,
     "metadata": {},
     "output_type": "execute_result"
    }
   ],
   "source": [
    "ct_np.shape,tum_filled.shape"
   ]
  },
  {
   "cell_type": "code",
   "execution_count": 42,
   "metadata": {},
   "outputs": [
    {
     "data": {
      "text/plain": [
       "-1"
      ]
     },
     "execution_count": 42,
     "metadata": {},
     "output_type": "execute_result"
    }
   ],
   "source": [
    "indices_Semi_z"
   ]
  },
  {
   "cell_type": "code",
   "execution_count": 43,
   "metadata": {},
   "outputs": [
    {
     "data": {
      "text/plain": [
       "-1"
      ]
     },
     "execution_count": 43,
     "metadata": {},
     "output_type": "execute_result"
    }
   ],
   "source": [
    "indices_Tum_z"
   ]
  },
  {
   "cell_type": "code",
   "execution_count": null,
   "metadata": {},
   "outputs": [],
   "source": []
  }
 ],
 "metadata": {
  "kernelspec": {
   "display_name": "Python 3 (ipykernel)",
   "language": "python",
   "name": "python3"
  },
  "language_info": {
   "codemirror_mode": {
    "name": "ipython",
    "version": 3
   },
   "file_extension": ".py",
   "mimetype": "text/x-python",
   "name": "python",
   "nbconvert_exporter": "python",
   "pygments_lexer": "ipython3",
   "version": "3.9.19"
  }
 },
 "nbformat": 4,
 "nbformat_minor": 4
}
