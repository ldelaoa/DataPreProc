{
 "cells": [
  {
   "cell_type": "code",
   "execution_count": 2,
   "metadata": {},
   "outputs": [],
   "source": [
    "import matplotlib.pyplot as plt\n",
    "import nibabel as nib\n",
    "import numpy as np\n",
    "from skimage import morphology\n",
    "import os\n",
    "import random\n",
    "from skimage.measure import label,regionprops"
   ]
  },
  {
   "cell_type": "code",
   "execution_count": 3,
   "metadata": {},
   "outputs": [],
   "source": [
    "#root = \"Z:/Projectline_modelling_lung_cancer/Nii_Processed/\"\n",
    "root = \"//zkh/appdata/RTDicom/Projectline_modelling_lung_cancer/Users/Luis/CT_ITV_GTV_XBP_Nii_Processed/\""
   ]
  },
  {
   "cell_type": "code",
   "execution_count": 4,
   "metadata": {},
   "outputs": [],
   "source": [
    "def LookFiles_Snapshot(folder_path):\n",
    "    planCT_list,planCTLung_list = ([],[])\n",
    "    bp50_list, bp50Lung_list = ([],[])\n",
    "    gtv_list, itv_list = ([],[])\n",
    "    for root,dirs,files in os.walk(folder_path):\n",
    "        for f in files:\n",
    "            if \"PlanCT_CTProcessed.nii\" in f:\n",
    "                planCT_list.append(os.path.join(folder_path,f))\n",
    "            if \"PlanCT_LungProcessed.nii\" in f:\n",
    "                planCTLung_list.append(os.path.join(folder_path,f))\n",
    "            if \"bp50_CTProcessed.nii\" in f:\n",
    "                bp50_list.append(os.path.join(folder_path,f))\n",
    "            if \"bp50_LungProcessed.nii\" in f:\n",
    "                bp50Lung_list.append(os.path.join(folder_path,f))\n",
    "            if \"GTV\" in f:\n",
    "                gtv_list.append(os.path.join(folder_path,f))\n",
    "            if \"ITV\" in f:\n",
    "                itv_list.append(os.path.join(folder_path,f))\n",
    "    \n",
    "    #print(\"Len of Files\",len(planCT_list),len(planCTLung_list),len(bp50_list),len(bp50Lung_list),len(gtv_list),len(itv_list))\n",
    "\n",
    "\n",
    "    return planCT_list,planCTLung_list,bp50_list,bp50Lung_list,gtv_list,itv_list\n",
    "    "
   ]
  },
  {
   "cell_type": "code",
   "execution_count": 5,
   "metadata": {},
   "outputs": [
    {
     "data": {
      "text/plain": [
       "172"
      ]
     },
     "execution_count": 5,
     "metadata": {},
     "output_type": "execute_result"
    }
   ],
   "source": [
    "PxList = os.listdir(root)\n",
    "len(PxList)"
   ]
  },
  {
   "cell_type": "code",
   "execution_count": 7,
   "metadata": {},
   "outputs": [],
   "source": [
    "def CountSlidesPerCategory(struct_np,tumorSlide_Tresh):\n",
    "    #Z\n",
    "    indices_Tum_z = []\n",
    "    indices_Semi_z = []\n",
    "    for i in range(struct_np.shape[-1]):\n",
    "        if np.sum(struct_np[:,:,i])>0:\n",
    "            currRatio = np.sum(struct_np[:,:,i])/(struct_np.shape[0]*struct_np.shape[1])\n",
    "            if currRatio > tumorSlide_Tresh[-1]:\n",
    "                indices_Tum_z.append(i)\n",
    "            elif currRatio > 0:\n",
    "                indices_Semi_z.append(i)\n",
    "    #Y\n",
    "    indices_Tum_y= []\n",
    "    indices_Semi_y = []\n",
    "    for i in range(struct_np.shape[-2]):\n",
    "        if np.sum(struct_np[:,i,:])>0:\n",
    "            currRatio = np.sum(struct_np[:,i,:])/(struct_np.shape[0]*struct_np.shape[2])\n",
    "            if currRatio > tumorSlide_Tresh[-2]:\n",
    "                indices_Tum_y.append(i)\n",
    "            elif currRatio > 0:\n",
    "                indices_Semi_y.append(i)\n",
    "    #X\n",
    "    indices_Tum_x= []\n",
    "    indices_Semi_x = []\n",
    "    for i in range(struct_np.shape[-3]):\n",
    "        if np.sum(struct_np[i,:,:])>0:\n",
    "            currRatio = np.sum(struct_np[i,:,:])/(struct_np.shape[1]*struct_np.shape[2])\n",
    "            if currRatio > tumorSlide_Tresh[-3]:\n",
    "                indices_Tum_x.append(i)\n",
    "            elif currRatio > 0:\n",
    "                indices_Semi_x.append(i)\n",
    "\n",
    "    return indices_Tum_x,indices_Tum_y,indices_Tum_z,indices_Semi_x,indices_Semi_y,indices_Semi_z"
   ]
  },
  {
   "cell_type": "code",
   "execution_count": 8,
   "metadata": {},
   "outputs": [],
   "source": [
    "def group_consecutive_numbers(lst):\n",
    "    result = []\n",
    "    sublist = [lst[0]]\n",
    "    for i in range(1, len(lst)):\n",
    "        if lst[i] - 1 == lst[i - 1]:\n",
    "            sublist.append(lst[i])\n",
    "        else:\n",
    "            result.append(sublist)\n",
    "            sublist = [lst[i]]\n",
    "    result.append(sublist)\n",
    "    return result\n",
    "\n",
    "def adjust_sublists(lst):\n",
    "    adjusted_result = []\n",
    "    for sublist in lst:\n",
    "        if len(sublist) > 1:\n",
    "            adjusted_result.append([sublist[0], sublist[1], sublist[2]])\n",
    "        else:\n",
    "            adjusted_result.append([sublist[0] - 1, sublist[0], sublist[0] + 1])\n",
    "    return adjusted_result\n",
    "\n",
    "\n",
    "\n"
   ]
  },
  {
   "cell_type": "code",
   "execution_count": 18,
   "metadata": {},
   "outputs": [],
   "source": [
    "def GetTresholds():\n",
    "    factor=.6\n",
    "    avgRatio_Avg= [0.130966154,1.2537841,1.24953586]\n",
    "    avgRatio_Med= [0.010234375,0.0100585938,0.0086767578]\n",
    "    tumorSlide_AvgTresh = [avgRatio_Avg[0]*factor,avgRatio_Avg[1]*factor,avgRatio_Avg[2]*factor]\n",
    "    tumorSlide_MediTresh = [avgRatio_Med[0]*factor,avgRatio_Med[1]*factor,avgRatio_Med[2]*factor]\n",
    "    return tumorSlide_MediTresh"
   ]
  },
  {
   "cell_type": "code",
   "execution_count": 19,
   "metadata": {},
   "outputs": [
    {
     "name": "stdout",
     "output_type": "stream",
     "text": [
      "[142, 143, 144, 145, 146, 147, 148, 149, 150, 151, 152, 153, 154, 155, 156, 157, 158, 159, 160, 161, 162, 163, 164, 165, 166, 167, 168, 169, 170, 171, 172, 173, 174, 175, 176, 177, 178, 179, 180, 181, 182, 183, 184, 185, 186, 187, 188, 189, 190, 191, 192, 193, 194, 195, 196, 197, 198, 199, 200, 201, 202, 203, 204, 205, 206, 207, 208]\n",
      "[[142, 143, 144, 145, 146, 147, 148, 149, 150, 151, 152, 153, 154, 155, 156, 157, 158, 159, 160, 161, 162, 163, 164, 165, 166, 167, 168, 169, 170, 171, 172, 173, 174, 175, 176, 177, 178, 179, 180, 181, 182, 183, 184, 185, 186, 187, 188, 189, 190, 191, 192, 193, 194, 195, 196, 197, 198, 199, 200, 201, 202, 203, 204, 205, 206, 207, 208]]\n",
      "[[142, 143, 144]]\n"
     ]
    }
   ],
   "source": [
    "okPx,errorPx = [],[]\n",
    "\n",
    "for Px in PxList:\n",
    "    planCT_list,planCTLung_list,bp50_list,bp50Lung_list,gtv_list,itv_list = LookFiles_Snapshot(root+Px)\n",
    "    flagOkPx = False\n",
    "\n",
    "    if len(gtv_list)>0 and len(bp50_list)>0:\n",
    "        tum_np  = nib.load(gtv_list[0]).get_fdata()\n",
    "        flagOkPx = True\n",
    "    elif len(itv_list)>0 and len(planCT_list)>0:\n",
    "        tum_np  = nib.load(itv_list[0]).get_fdata()\n",
    "        flagOkPx = True\n",
    "    else:\n",
    "        errorPx.append(Px)\n",
    "        \n",
    "    if flagOkPx:\n",
    "        tum_filled = tum_np\n",
    "        if np.sum(tum_filled)!=0:\n",
    "            okPx.append(Px)\n",
    "\n",
    "            tumorSlide_MediTresh = GetTresholds()\n",
    "\n",
    "            indices_Tum_x,indices_Tum_y,indices_Tum_z,indices_Semi_x,indices_Semi_y,indices_Semi_z= CountSlidesPerCategory(tum_filled,tumorSlide_MediTresh)\n",
    "\n",
    "            # Group consecutive numbers\n",
    "            grouped_list = group_consecutive_numbers(indices_Tum_x)\n",
    "\n",
    "            # Adjust sublists\n",
    "            adjusted_list = adjust_sublists(grouped_list)\n",
    "\n",
    "            print(indices_Tum_x)\n",
    "            print(grouped_list)\n",
    "            print(adjusted_list)\n",
    "\n",
    "            break\n"
   ]
  },
  {
   "cell_type": "code",
   "execution_count": 15,
   "metadata": {},
   "outputs": [
    {
     "name": "stdout",
     "output_type": "stream",
     "text": [
      "[36, 37, 38, 39, 40, 41, 42, 43, 44, 45, 46, 47, 48, 49, 50, 51, 52, 53, 54, 55, 56, 57, 58, 59, 60, 61, 62, 63, 64, 65, 66, 67, 68, 69, 70, 71, 72, 73, 74, 75, 76, 77, 78, 79, 80, 81, 82, 83, 84, 85, 86, 87, 88, 89, 90, 91, 92, 93, 94, 95, 96, 97, 98, 99, 100, 101, 102, 103, 104, 105, 106, 107, 108, 109, 110, 111, 112, 113, 114, 115, 116, 117, 118, 119, 120, 121, 122, 123, 124, 125, 126]\n"
     ]
    }
   ],
   "source": [
    "print(indices_Tum_y)\n"
   ]
  },
  {
   "cell_type": "code",
   "execution_count": 32,
   "metadata": {},
   "outputs": [
    {
     "name": "stdout",
     "output_type": "stream",
     "text": [
      "[[  -0.9765625    -0.            0.          249.51171875]\n",
      " [  -0.           -0.9765625     0.          427.01171875]\n",
      " [   0.            0.            2.         -150.        ]\n",
      " [   0.            0.            0.            1.        ]]\n",
      "[[  -0.9765625    -0.            0.          249.51171875]\n",
      " [  -0.           -0.9765625     0.          427.01171875]\n",
      " [   0.            0.            2.         -150.        ]\n",
      " [   0.            0.            0.            1.        ]]\n",
      "(512, 512, 310) (512, 512, 155)\n"
     ]
    }
   ],
   "source": [
    " if False and len(gtvTot)>0:\n",
    "    tum_np  = nib.load(gtvTot[0]).get_fdata()\n",
    "    ct_np  = nib.load(bp50[0]).get_fdata()\n",
    "    ContourType=\"GTV\"\n",
    "else:\n",
    "    tum_np  = nib.load(itvTot[0]).get_fdata()\n",
    "    ct_np  = nib.load(planct_path[0]).get_fdata()\n",
    "    print(nib.load(itvTot[0]).affine)\n",
    "    print(nib.load(planct_path[0]).affine)\n",
    "    ContourType=\"ITV\"\n",
    "print(tum_np.shape,ct_np.shape)"
   ]
  },
  {
   "cell_type": "code",
   "execution_count": null,
   "metadata": {},
   "outputs": [],
   "source": []
  },
  {
   "cell_type": "code",
   "execution_count": 24,
   "metadata": {},
   "outputs": [],
   "source": [
    "def getMiddleSlices(gtv_np):\n",
    "    #Get mid tumor Slices per view\n",
    "    non_zero_elements = np.nonzero(gtv_np)\n",
    "    min_x, max_x = np.min(non_zero_elements[0]), np.max(non_zero_elements[0])\n",
    "    middle_x = (min_x + max_x) // 2\n",
    "    min_y, max_y = np.min(non_zero_elements[1]), np.max(non_zero_elements[1])\n",
    "    middle_y = (min_y + max_y) // 2\n",
    "    min_z, max_z = np.min(non_zero_elements[2]), np.max(non_zero_elements[2])\n",
    "    middle_z = (min_z + max_z) // 2\n",
    "    return middle_x,middle_y,middle_z\n",
    " \n",
    "middle_x,middle_y,middle_z = getMiddleSlices(tum_np)"
   ]
  },
  {
   "cell_type": "code",
   "execution_count": 6,
   "metadata": {},
   "outputs": [],
   "source": []
  },
  {
   "cell_type": "code",
   "execution_count": 29,
   "metadata": {},
   "outputs": [
    {
     "name": "stdout",
     "output_type": "stream",
     "text": [
      "271 216 163 1007981 (512, 512, 155) ITVRaw (512, 512, 310)\n"
     ]
    },
    {
     "ename": "NameError",
     "evalue": "name 'middle_' is not defined",
     "output_type": "error",
     "traceback": [
      "\u001b[1;31m---------------------------------------------------------------------------\u001b[0m",
      "\u001b[1;31mNameError\u001b[0m                                 Traceback (most recent call last)",
      "Cell \u001b[1;32mIn[29], line 47\u001b[0m\n\u001b[0;32m     44\u001b[0m         plt\u001b[38;5;241m.\u001b[39msavefig(pathToSave\u001b[38;5;241m+\u001b[39m\u001b[38;5;124m\"\u001b[39m\u001b[38;5;124m/\u001b[39m\u001b[38;5;124m\"\u001b[39m\u001b[38;5;241m+\u001b[39mImageType\u001b[38;5;241m+\u001b[39m\u001b[38;5;124m\"\u001b[39m\u001b[38;5;124m_Coronal.jpeg\u001b[39m\u001b[38;5;124m\"\u001b[39m)\n\u001b[0;32m     45\u001b[0m         plt\u001b[38;5;241m.\u001b[39mclose()\n\u001b[1;32m---> 47\u001b[0m \u001b[43mScreenshot\u001b[49m\u001b[43m(\u001b[49m\u001b[43mct_np\u001b[49m\u001b[43m,\u001b[49m\u001b[43mtum_np\u001b[49m\u001b[43m,\u001b[49m\u001b[43mmiddle_x\u001b[49m\u001b[43m,\u001b[49m\u001b[43mmiddle_y\u001b[49m\u001b[43m,\u001b[49m\u001b[43mmiddle_z\u001b[49m\u001b[43m,\u001b[49m\u001b[38;5;28;43;01mTrue\u001b[39;49;00m\u001b[43m,\u001b[49m\u001b[43mPx\u001b[49m\u001b[43m,\u001b[49m\u001b[43mContourType\u001b[49m\u001b[38;5;241;43m+\u001b[39;49m\u001b[38;5;124;43m\"\u001b[39;49m\u001b[38;5;124;43mRaw\u001b[39;49m\u001b[38;5;124;43m\"\u001b[39;49m\u001b[43m)\u001b[49m\n",
      "Cell \u001b[1;32mIn[29], line 17\u001b[0m, in \u001b[0;36mScreenshot\u001b[1;34m(ct_np, gtv_np, middle_x, middle_y, middle_z, contourBool, Px2Save, ImageType)\u001b[0m\n\u001b[0;32m     15\u001b[0m \u001b[38;5;66;03m#middle_x,middle_y,middle_z = getMiddleSlices(gtv_np)\u001b[39;00m\n\u001b[0;32m     16\u001b[0m plt\u001b[38;5;241m.\u001b[39mfigure(figsize\u001b[38;5;241m=\u001b[39m(\u001b[38;5;241m15\u001b[39m, \u001b[38;5;241m15\u001b[39m), dpi\u001b[38;5;241m=\u001b[39m\u001b[38;5;241m300\u001b[39m)\n\u001b[1;32m---> 17\u001b[0m plt\u001b[38;5;241m.\u001b[39mimshow(clipped_image[:,:,\u001b[43mmiddle_\u001b[49m\u001b[38;5;241m/\u001b[39m\u001b[38;5;241m/\u001b[39m\u001b[38;5;241m2\u001b[39m],cmap\u001b[38;5;241m=\u001b[39m\u001b[38;5;124m'\u001b[39m\u001b[38;5;124mgray\u001b[39m\u001b[38;5;124m'\u001b[39m),plt\u001b[38;5;241m.\u001b[39maxis(\u001b[38;5;124m'\u001b[39m\u001b[38;5;124moff\u001b[39m\u001b[38;5;124m'\u001b[39m)\u001b[38;5;66;03m#,plt.colorbar()\u001b[39;00m\n\u001b[0;32m     18\u001b[0m plt\u001b[38;5;241m.\u001b[39mtitle(\u001b[38;5;124m\"\u001b[39m\u001b[38;5;124mZ:\u001b[39m\u001b[38;5;124m\"\u001b[39m\u001b[38;5;241m+\u001b[39m\u001b[38;5;28mstr\u001b[39m(middle_z))\n\u001b[0;32m     19\u001b[0m \u001b[38;5;28;01mif\u001b[39;00m contourBool:\n",
      "\u001b[1;31mNameError\u001b[0m: name 'middle_' is not defined"
     ]
    },
    {
     "data": {
      "text/plain": [
       "<Figure size 4500x4500 with 0 Axes>"
      ]
     },
     "metadata": {},
     "output_type": "display_data"
    }
   ],
   "source": [
    "def Screenshot(ct_np,gtv_np,middle_x,middle_y,middle_z,contourBool=True,Px2Save=None,ImageType=None):\n",
    "    minHU = -1024\n",
    "    maxHU = 600\n",
    "    savebool = True\n",
    "    root2save= \"Z:/Projectline_modelling_lung_cancer/JPEGs/Raw/\"\n",
    "    if Px2Save is not None:\n",
    "        pathToSave = os.path.join(root2save,Px2Save)\n",
    "        if not(os.path.exists(pathToSave)):\n",
    "            os.mkdir(pathToSave)\n",
    "    \n",
    "    print(middle_x,middle_y,middle_z,Px2Save,ct_np.shape,ImageType,gtv_np.shape)\n",
    "\n",
    "    \n",
    "    clipped_image = np.clip(ct_np, minHU, maxHU)\n",
    "    #middle_x,middle_y,middle_z = getMiddleSlices(gtv_np)\n",
    "    plt.figure(figsize=(15, 15), dpi=300)\n",
    "    plt.imshow(clipped_image[:,:,middle_//2],cmap='gray'),plt.axis('off')#,plt.colorbar()\n",
    "    plt.title(\"Z:\"+str(middle_z))\n",
    "    if contourBool:\n",
    "        plt.contour(gtv_np[:,:,middle_z],linewidths=0.5,colors='r')\n",
    "    if not(savebool): \n",
    "        plt.show()\n",
    "    else:\n",
    "        plt.savefig(pathToSave+\"/\"+ImageType+\"_Axial.jpeg\")\n",
    "        plt.close()\n",
    "    plt.figure(figsize=(15, 15), dpi=300)\n",
    "    plt.imshow(np.rot90(clipped_image[:,middle_y//2,:]),cmap='gray'),plt.axis('off')#,plt.colorbar()\n",
    "    plt.title(\"Y:\"+str(middle_y))\n",
    "    if contourBool:\n",
    "        plt.contour(np.rot90(gtv_np[:,middle_y,:]),linewidths=0.5,colors='r')\n",
    "    if not(savebool): \n",
    "        plt.show()\n",
    "    else:\n",
    "        plt.savefig(pathToSave+\"/\"+ImageType+\"_Sagital.jpeg\")\n",
    "        plt.close()\n",
    "    plt.figure(figsize=(15, 15), dpi=300)\n",
    "    plt.imshow(np.rot90(clipped_image[middle_x//2,:,:]),cmap='gray'),plt.axis('off')#,plt.colorbar()\n",
    "    plt.title(\"X:\"+str(middle_x))\n",
    "    if contourBool:\n",
    "        plt.contour(np.rot90(gtv_np[middle_x,:,:]),linewidths=0.5,colors='r')\n",
    "    if not(savebool): \n",
    "        plt.show()\n",
    "    else:\n",
    "        plt.savefig(pathToSave+\"/\"+ImageType+\"_Coronal.jpeg\")\n",
    "        plt.close()\n",
    "\n",
    "Screenshot(ct_np,tum_np,middle_x,middle_y,middle_z,True,Px,ContourType+\"Raw\")\n"
   ]
  },
  {
   "cell_type": "code",
   "execution_count": null,
   "metadata": {},
   "outputs": [],
   "source": []
  },
  {
   "cell_type": "code",
   "execution_count": 45,
   "metadata": {},
   "outputs": [],
   "source": []
  },
  {
   "cell_type": "code",
   "execution_count": 48,
   "metadata": {},
   "outputs": [],
   "source": []
  },
  {
   "cell_type": "code",
   "execution_count": null,
   "metadata": {},
   "outputs": [],
   "source": []
  },
  {
   "cell_type": "code",
   "execution_count": null,
   "metadata": {},
   "outputs": [],
   "source": []
  },
  {
   "cell_type": "code",
   "execution_count": 42,
   "metadata": {},
   "outputs": [
    {
     "data": {
      "text/plain": [
       "-1"
      ]
     },
     "execution_count": 42,
     "metadata": {},
     "output_type": "execute_result"
    }
   ],
   "source": [
    "indices_Semi_z"
   ]
  },
  {
   "cell_type": "code",
   "execution_count": 43,
   "metadata": {},
   "outputs": [
    {
     "data": {
      "text/plain": [
       "-1"
      ]
     },
     "execution_count": 43,
     "metadata": {},
     "output_type": "execute_result"
    }
   ],
   "source": [
    "indices_Tum_z"
   ]
  },
  {
   "cell_type": "code",
   "execution_count": null,
   "metadata": {},
   "outputs": [],
   "source": []
  }
 ],
 "metadata": {
  "kernelspec": {
   "display_name": "Python 3 (ipykernel)",
   "language": "python",
   "name": "python3"
  },
  "language_info": {
   "codemirror_mode": {
    "name": "ipython",
    "version": 3
   },
   "file_extension": ".py",
   "mimetype": "text/x-python",
   "name": "python",
   "nbconvert_exporter": "python",
   "pygments_lexer": "ipython3",
   "version": "3.10.12"
  }
 },
 "nbformat": 4,
 "nbformat_minor": 4
}
