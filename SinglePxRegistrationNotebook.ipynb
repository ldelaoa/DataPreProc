{
 "cells": [
  {
   "cell_type": "code",
   "execution_count": 1,
   "id": "18e4fd38",
   "metadata": {},
   "outputs": [
    {
     "name": "stderr",
     "output_type": "stream",
     "text": [
      "C:\\Users\\delaoArevaLR\\AppData\\Local\\anaconda3\\envs\\Ch2_July23_2\\lib\\site-packages\\tqdm\\auto.py:21: TqdmWarning: IProgress not found. Please update jupyter and ipywidgets. See https://ipywidgets.readthedocs.io/en/stable/user_install.html\n",
      "  from .autonotebook import tqdm as notebook_tqdm\n"
     ]
    }
   ],
   "source": [
    "from DataPreProc import *\n",
    "from RegistwStats import *\n",
    "from LookFiles import *\n",
    "import csv"
   ]
  },
  {
   "cell_type": "code",
   "execution_count": 2,
   "id": "6893cb8c",
   "metadata": {},
   "outputs": [],
   "source": [
    "root_path = \"//zkh/appdata/RTDicom/Projectline_modelling_lung_cancer/Users/Luis/CT_RT_PET_ACCT_NiiToHabrok/\"\n",
    "Px = str(10539)\n"
   ]
  },
  {
   "cell_type": "code",
   "execution_count": 3,
   "id": "c53efb15",
   "metadata": {},
   "outputs": [
    {
     "name": "stdout",
     "output_type": "stream",
     "text": [
      "ACCT 1 ACCT_LM 1 PET 1 PlanCT 1 PlanCT_LM 1 ITV 1\n",
      "10539 PlanCT\n",
      "Init Sizes: (512, 512, 142) (512, 512, 142) (512, 512, 142)\n",
      "Cropped: (360, 283, 119) (360, 283, 119) (360, 283, 119)\n",
      "Normalized Sizes: (178, 140, 74) (178, 140, 74) (178, 140, 74)\n",
      "10539 ACCT\n",
      "Init Sizes: (512, 512, 489) (512, 512, 489) (256, 256, 489)\n",
      "Itnerpolate Add Img before Cropping\n",
      "Cropped: (236, 186, 154) (236, 186, 154) (236, 186, 154)\n",
      "Normalized Sizes: (179, 141, 77) (179, 141, 77) (179, 141, 77)\n"
     ]
    },
    {
     "data": {
      "text/plain": [
       "0"
      ]
     },
     "execution_count": 3,
     "metadata": {},
     "output_type": "execute_result"
    }
   ],
   "source": [
    "acct_Path, acct_PathLM, PET_Path, planct_path, planct_pathLM, ITV_Path = LookFiles(os.path.join(root_path,Px))\n",
    "print(Px,\"PlanCT\")\n",
    "DataPreProc(planct_path, planct_pathLM,ITV_Path, os.path.join(root_path, Px),\"PlanCT\")\n",
    "print(Px, \"ACCT\")\n",
    "DataPreProc(acct_Path, acct_PathLM, PET_Path, os.path.join(root_path, Px), \"ACCT\")"
   ]
  },
  {
   "cell_type": "code",
   "execution_count": 4,
   "id": "f647d1b3",
   "metadata": {},
   "outputs": [
    {
     "name": "stdout",
     "output_type": "stream",
     "text": [
      "ACCTr img 1 ACCTr LM 1\n",
      "CTCT Axial: 1.15, 0.46, 1783811328.00\n",
      "CTCT Coronal 1.12, 0.45, 1066414659.92\n",
      "CTCT Sagital 1.14, 0.43, 6136523946.67\n",
      "LMLM Axial 1.14, 0.45, 1790585981.02\n",
      "LMLM Coronal 1.13, 0.46, 1054271019.10\n",
      "LMLM Sagital 1.15, 0.48, 6150255377.07\n"
     ]
    },
    {
     "data": {
      "text/plain": [
       "0"
      ]
     },
     "execution_count": 4,
     "metadata": {},
     "output_type": "execute_result"
    }
   ],
   "source": [
    "SingPxRegistWMetrics(root_path,Px)"
   ]
  },
  {
   "cell_type": "code",
   "execution_count": null,
   "id": "c6530210",
   "metadata": {},
   "outputs": [],
   "source": []
  },
  {
   "cell_type": "code",
   "execution_count": null,
   "id": "4f60b290",
   "metadata": {},
   "outputs": [],
   "source": []
  },
  {
   "cell_type": "code",
   "execution_count": null,
   "id": "d0c09a90",
   "metadata": {},
   "outputs": [],
   "source": []
  }
 ],
 "metadata": {
  "kernelspec": {
   "display_name": "Python 3 (ipykernel)",
   "language": "python",
   "name": "python3"
  },
  "language_info": {
   "codemirror_mode": {
    "name": "ipython",
    "version": 3
   },
   "file_extension": ".py",
   "mimetype": "text/x-python",
   "name": "python",
   "nbconvert_exporter": "python",
   "pygments_lexer": "ipython3",
   "version": "3.10.12"
  }
 },
 "nbformat": 4,
 "nbformat_minor": 5
}
